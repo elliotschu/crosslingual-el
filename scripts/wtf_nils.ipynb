{
 "cells": [
  {
   "cell_type": "code",
   "execution_count": 27,
   "metadata": {
    "collapsed": true,
    "pycharm": {
     "is_executing": false
    }
   },
   "outputs": [
    {
     "data": {
      "text/plain": "  lang  correct\n0  CMN       24\n1  ENG      211\n2  SPA       20",
      "text/html": "<div>\n<style scoped>\n    .dataframe tbody tr th:only-of-type {\n        vertical-align: middle;\n    }\n\n    .dataframe tbody tr th {\n        vertical-align: top;\n    }\n\n    .dataframe thead th {\n        text-align: right;\n    }\n</style>\n<table border=\"1\" class=\"dataframe\">\n  <thead>\n    <tr style=\"text-align: right;\">\n      <th></th>\n      <th>lang</th>\n      <th>correct</th>\n    </tr>\n  </thead>\n  <tbody>\n    <tr>\n      <td>0</td>\n      <td>CMN</td>\n      <td>24</td>\n    </tr>\n    <tr>\n      <td>1</td>\n      <td>ENG</td>\n      <td>211</td>\n    </tr>\n    <tr>\n      <td>2</td>\n      <td>SPA</td>\n      <td>20</td>\n    </tr>\n  </tbody>\n</table>\n</div>"
     },
     "metadata": {},
     "output_type": "execute_result",
     "execution_count": 27
    }
   ],
   "source": [
    "import pandas as pd\n",
    "\n",
    "\n",
    "timestamp = \"run_2020_06_24_10_37_42_ALL_8566794_r3n07\"\n",
    "epoch = \"99\"\n",
    "filename = f\"/Users/elliotschumacher/Dropbox/git/clel/results/{timestamp}/eval_{epoch}.xlsx\"\n",
    "data_file = \"/Users/elliotschumacher/Dropbox/git/clel/datasets/LDC2019T02/tac_kbp_2015_tedl_training_gold_standard_entity_mentions.tab\"\n",
    "\n",
    "results = pd.read_excel(filename)\n",
    "header_list = [\"system_id\", \"query_id\", \"mention_string\", \"doc_id_offsets\", \"link_id\", \"entity_type\", \"mention_type\",\n",
    "               \"confidence\", \"web_search\", \"wiki_text\", \"unknown\"]\n",
    "data = pd.read_csv(data_file, sep=\"\\t\", names=header_list, header=None,)\n",
    "\n",
    "data_nils = data[data[\"link_id\"].str.startswith(\"NIL\")]\n",
    "candidate_list = []\n",
    "for lang in [\"ENG\", \"SPA\", \"CMN\"]:\n",
    "    cand_filename = f\"/Users/elliotschumacher/Dropbox/git/clel/datasets/LDC2019T02/{lang}/mentions_{lang}_out.csv\"\n",
    "    lang_df = pd.read_csv(cand_filename)\n",
    "    candidate_list.append(lang_df)\n",
    "candidate_df = pd.concat(candidate_list)\n",
    "nil_results = []\n",
    "for i, row in data_nils.iterrows():\n",
    "    row_result = results[results[\"~~mention_uuid\"] == row.query_id]\n",
    "    if len(row_result) > 0:\n",
    "        lang = row.doc_id_offsets[:3]\n",
    "        pred_cui = row_result[\"~pred_cuis_0\"]\n",
    "        correct = pd.isna(pred_cui).iloc[0]\n",
    "        candidate_titles = candidate_df[candidate_df['id'] == row.query_id]['title'].values.tolist()\n",
    "        nil_results.append({\n",
    "            \"lang\" : lang,\n",
    "            \"doc_id_offsets\" : row[\"doc_id_offsets\"],\n",
    "            \"query_id\" : row[\"query_id\"],\n",
    "            \"correct\" : correct,\n",
    "            \"num_candidates\" : len(candidate_titles),\n",
    "            \"_text\" : row_result[\"_text\"].iloc[0] ,\n",
    "            \"_sentence\" : row_result[\"_sentence\"].iloc[0] ,\n",
    "            \"_candidates\" : \",\".join([str(x) for x in candidate_titles]),\n",
    "            \"_author\" : \"author=\" in row_result[\"_sentence\"].iloc[0],\n",
    "            \"_author2\": \"author=\\\"\"+row_result[\"_text\"].iloc[0]  in row_result[\"_sentence\"].iloc[0]\n",
    "        })\n",
    "        for i in range(10):\n",
    "            nil_results[-1][f\"~pred_cuis_{i}\"] = row_result[f\"~pred_cuis_{i}\"].iloc[0]\n",
    "nil_df = pd.DataFrame.from_dict(nil_results)\n",
    "pd.pivot_table(nil_df[(nil_df[\"correct\"] == True) & (nil_df[\"num_candidates\"] > 0)], index=[\"lang\",],\n",
    "                            values=\"correct\",\n",
    "                             aggfunc=\"count\").reset_index()"
   ]
  },
  {
   "cell_type": "code",
   "execution_count": 28,
   "outputs": [
    {
     "data": {
      "text/plain": "  lang  correct\n0  CMN      372\n1  ENG      442\n2  SPA       59",
      "text/html": "<div>\n<style scoped>\n    .dataframe tbody tr th:only-of-type {\n        vertical-align: middle;\n    }\n\n    .dataframe tbody tr th {\n        vertical-align: top;\n    }\n\n    .dataframe thead th {\n        text-align: right;\n    }\n</style>\n<table border=\"1\" class=\"dataframe\">\n  <thead>\n    <tr style=\"text-align: right;\">\n      <th></th>\n      <th>lang</th>\n      <th>correct</th>\n    </tr>\n  </thead>\n  <tbody>\n    <tr>\n      <td>0</td>\n      <td>CMN</td>\n      <td>372</td>\n    </tr>\n    <tr>\n      <td>1</td>\n      <td>ENG</td>\n      <td>442</td>\n    </tr>\n    <tr>\n      <td>2</td>\n      <td>SPA</td>\n      <td>59</td>\n    </tr>\n  </tbody>\n</table>\n</div>"
     },
     "metadata": {},
     "output_type": "execute_result",
     "execution_count": 28
    }
   ],
   "source": [
    "pd.pivot_table(nil_df[(nil_df[\"correct\"] == True) & (nil_df[\"num_candidates\"] == 0)], index=[\"lang\",],\n",
    "                            values=\"correct\",\n",
    "                             aggfunc=\"count\").reset_index()"
   ],
   "metadata": {
    "collapsed": false,
    "pycharm": {
     "name": "#%%\n",
     "is_executing": false
    }
   }
  },
  {
   "cell_type": "code",
   "execution_count": 29,
   "outputs": [
    {
     "data": {
      "text/plain": "  lang  correct\n0  CMN       38\n1  ENG      265\n2  SPA       65",
      "text/html": "<div>\n<style scoped>\n    .dataframe tbody tr th:only-of-type {\n        vertical-align: middle;\n    }\n\n    .dataframe tbody tr th {\n        vertical-align: top;\n    }\n\n    .dataframe thead th {\n        text-align: right;\n    }\n</style>\n<table border=\"1\" class=\"dataframe\">\n  <thead>\n    <tr style=\"text-align: right;\">\n      <th></th>\n      <th>lang</th>\n      <th>correct</th>\n    </tr>\n  </thead>\n  <tbody>\n    <tr>\n      <td>0</td>\n      <td>CMN</td>\n      <td>38</td>\n    </tr>\n    <tr>\n      <td>1</td>\n      <td>ENG</td>\n      <td>265</td>\n    </tr>\n    <tr>\n      <td>2</td>\n      <td>SPA</td>\n      <td>65</td>\n    </tr>\n  </tbody>\n</table>\n</div>"
     },
     "metadata": {},
     "output_type": "execute_result",
     "execution_count": 29
    }
   ],
   "source": [
    "pd.pivot_table(nil_df[(nil_df[\"correct\"] == False) & (nil_df[\"num_candidates\"] > 0)], index=[\"lang\",],\n",
    "                            values=\"correct\",\n",
    "                             aggfunc=\"count\").reset_index()"
   ],
   "metadata": {
    "collapsed": false,
    "pycharm": {
     "name": "#%%\n",
     "is_executing": false
    }
   }
  },
  {
   "cell_type": "code",
   "execution_count": 30,
   "outputs": [
    {
     "data": {
      "text/plain": "  lang  correct\n0  CMN        5\n1  ENG        3\n2  SPA        2",
      "text/html": "<div>\n<style scoped>\n    .dataframe tbody tr th:only-of-type {\n        vertical-align: middle;\n    }\n\n    .dataframe tbody tr th {\n        vertical-align: top;\n    }\n\n    .dataframe thead th {\n        text-align: right;\n    }\n</style>\n<table border=\"1\" class=\"dataframe\">\n  <thead>\n    <tr style=\"text-align: right;\">\n      <th></th>\n      <th>lang</th>\n      <th>correct</th>\n    </tr>\n  </thead>\n  <tbody>\n    <tr>\n      <td>0</td>\n      <td>CMN</td>\n      <td>5</td>\n    </tr>\n    <tr>\n      <td>1</td>\n      <td>ENG</td>\n      <td>3</td>\n    </tr>\n    <tr>\n      <td>2</td>\n      <td>SPA</td>\n      <td>2</td>\n    </tr>\n  </tbody>\n</table>\n</div>"
     },
     "metadata": {},
     "output_type": "execute_result",
     "execution_count": 30
    }
   ],
   "source": [
    "pd.pivot_table(nil_df[(nil_df[\"correct\"] == False) & (nil_df[\"num_candidates\"] == 0)], index=[\"lang\",],\n",
    "                            values=\"correct\",\n",
    "                             aggfunc=\"count\").reset_index()"
   ],
   "metadata": {
    "collapsed": false,
    "pycharm": {
     "name": "#%%\n",
     "is_executing": false
    }
   }
  },
  {
   "cell_type": "code",
   "execution_count": 31,
   "outputs": [
    {
     "data": {
      "text/plain": "  lang  correct  _author\n0  CMN     True      348\n1  ENG     True      634\n2  SPA    False        4\n3  SPA     True       78",
      "text/html": "<div>\n<style scoped>\n    .dataframe tbody tr th:only-of-type {\n        vertical-align: middle;\n    }\n\n    .dataframe tbody tr th {\n        vertical-align: top;\n    }\n\n    .dataframe thead th {\n        text-align: right;\n    }\n</style>\n<table border=\"1\" class=\"dataframe\">\n  <thead>\n    <tr style=\"text-align: right;\">\n      <th></th>\n      <th>lang</th>\n      <th>correct</th>\n      <th>_author</th>\n    </tr>\n  </thead>\n  <tbody>\n    <tr>\n      <td>0</td>\n      <td>CMN</td>\n      <td>True</td>\n      <td>348</td>\n    </tr>\n    <tr>\n      <td>1</td>\n      <td>ENG</td>\n      <td>True</td>\n      <td>634</td>\n    </tr>\n    <tr>\n      <td>2</td>\n      <td>SPA</td>\n      <td>False</td>\n      <td>4</td>\n    </tr>\n    <tr>\n      <td>3</td>\n      <td>SPA</td>\n      <td>True</td>\n      <td>78</td>\n    </tr>\n  </tbody>\n</table>\n</div>"
     },
     "metadata": {},
     "output_type": "execute_result",
     "execution_count": 31
    }
   ],
   "source": [
    "lang_acc = pd.pivot_table(nil_df[(nil_df[\"_author\"] == True)], index=[\"lang\",\"correct\"],\n",
    "                            values=\"_author\",\n",
    "                             aggfunc=\"count\").reset_index()\n",
    "lang_acc"
   ],
   "metadata": {
    "collapsed": false,
    "pycharm": {
     "name": "#%%\n",
     "is_executing": false
    }
   }
  },
  {
   "cell_type": "code",
   "execution_count": 32,
   "outputs": [
    {
     "data": {
      "text/plain": "  lang  correct  _author\n0  CMN     True      130\n1  ENG     True      605\n2  SPA     True       73",
      "text/html": "<div>\n<style scoped>\n    .dataframe tbody tr th:only-of-type {\n        vertical-align: middle;\n    }\n\n    .dataframe tbody tr th {\n        vertical-align: top;\n    }\n\n    .dataframe thead th {\n        text-align: right;\n    }\n</style>\n<table border=\"1\" class=\"dataframe\">\n  <thead>\n    <tr style=\"text-align: right;\">\n      <th></th>\n      <th>lang</th>\n      <th>correct</th>\n      <th>_author</th>\n    </tr>\n  </thead>\n  <tbody>\n    <tr>\n      <td>0</td>\n      <td>CMN</td>\n      <td>True</td>\n      <td>130</td>\n    </tr>\n    <tr>\n      <td>1</td>\n      <td>ENG</td>\n      <td>True</td>\n      <td>605</td>\n    </tr>\n    <tr>\n      <td>2</td>\n      <td>SPA</td>\n      <td>True</td>\n      <td>73</td>\n    </tr>\n  </tbody>\n</table>\n</div>"
     },
     "metadata": {},
     "output_type": "execute_result",
     "execution_count": 32
    }
   ],
   "source": [
    "lang_acc = pd.pivot_table(nil_df[(nil_df[\"_author2\"] == True)], index=[\"lang\",\"correct\"],\n",
    "                            values=\"_author\",\n",
    "                             aggfunc=\"count\").reset_index()\n",
    "lang_acc"
   ],
   "metadata": {
    "collapsed": false,
    "pycharm": {
     "name": "#%%\n",
     "is_executing": false
    }
   }
  },
  {
   "cell_type": "code",
   "execution_count": 33,
   "outputs": [],
   "source": [
    "options = {}\n",
    "options['strings_to_formulas'] = False\n",
    "options['strings_to_urls'] = False\n",
    "writer = pd.ExcelWriter(f\"/Users/elliotschumacher/Dropbox/git/clel/results/{timestamp}/nil.xlsx\", engine='xlsxwriter', options=options)\n",
    "\n",
    "nil_df[(nil_df[\"correct\"] == False)].to_excel(writer, index=False, freeze_panes=(1,0))\n",
    "writer.save()"
   ],
   "metadata": {
    "collapsed": false,
    "pycharm": {
     "name": "#%%\n",
     "is_executing": false
    }
   }
  },
  {
   "cell_type": "code",
   "execution_count": 34,
   "outputs": [
    {
     "name": "stdout",
     "text": [
      "ENG, 0.7090119435396308, 653 / 921\n",
      "ENG, nil perc 0.06801565615537995 - 13541\n",
      "SPA, 0.541095890410959, 79 / 146\n",
      "SPA, nil perc 0.034953315776873356 - 4177\n",
      "CMN, 0.9020501138952164, 396 / 439\n",
      "CMN, nil perc 0.0334705702958219 - 13116\n"
     ],
     "output_type": "stream"
    }
   ],
   "source": [
    "for lang in [\"ENG\", \"SPA\", \"CMN\"]:\n",
    "    corr = len(nil_df[(nil_df[\"correct\"] == True) & (nil_df['lang'] == lang)])\n",
    "    total = len(nil_df[(nil_df['lang'] == lang)])\n",
    "    print(f\"{lang}, {corr / float(total)}, {corr} / {total}\")\n",
    "    data_lang = data[data[\"doc_id_offsets\"].str.startswith(lang)]\n",
    "    print(f\"{lang}, nil perc { total/ float(len(data_lang) )} - {len(data_lang)}\")\n"
   ],
   "metadata": {
    "collapsed": false,
    "pycharm": {
     "name": "#%%\n",
     "is_executing": false
    }
   }
  }
 ],
 "metadata": {
  "kernelspec": {
   "display_name": "Python 3",
   "language": "python",
   "name": "python3"
  },
  "language_info": {
   "codemirror_mode": {
    "name": "ipython",
    "version": 2
   },
   "file_extension": ".py",
   "mimetype": "text/x-python",
   "name": "python",
   "nbconvert_exporter": "python",
   "pygments_lexer": "ipython2",
   "version": "2.7.6"
  },
  "pycharm": {
   "stem_cell": {
    "cell_type": "raw",
    "source": [],
    "metadata": {
     "collapsed": false
    }
   }
  }
 },
 "nbformat": 4,
 "nbformat_minor": 0
}