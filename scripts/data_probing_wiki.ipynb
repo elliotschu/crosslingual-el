{
 "cells": [
  {
   "cell_type": "code",
   "execution_count": 9,
   "metadata": {
    "collapsed": true,
    "pycharm": {
     "is_executing": false
    }
   },
   "outputs": [],
   "source": [
    "import pandas as pd\n",
    "import pickle\n",
    "import os\n",
    "from collections import defaultdict\n",
    "data_directory = \"/Users/elliotschumacher/Dropbox/git/clel/datasets/wiki_data\"\n",
    "\n",
    "row_dict = []\n",
    "\n",
    "for language in [\"ar\", \"ko\", \"fa\", \"ru\"]:\n",
    "    with open(os.path.join(data_directory, language, f'wiki_{language}.pkl'), 'rb') as f:\n",
    "        wiki_info = pickle.load(f)\n",
    "        en_pages = wiki_info[\"en_pages\"]\n",
    "        documents = wiki_info[\"mentions\"][language]\n",
    "        nil_documents = wiki_info[\"nil_mentions\"][language]\n",
    "        l2_pages = wiki_info[\"l2_pages\"][language]\n",
    "\n",
    "    for doc_title in documents:\n",
    "        for (sent_id, link_id), ment_dict in documents[doc_title].items():\n",
    "            sentence = ment_dict['sent']\n",
    "            link = ment_dict['link']\n",
    "            kbid = link['id_ll']\n",
    "            row_dict.append({\n",
    "                \"kbid\" : kbid,\n",
    "                \"language\" : language,\n",
    "                \"title\" : link[\"title_ll\"]\n",
    "            })\n",
    "            \n",
    "entities_df = pd.DataFrame().from_dict(row_dict)\n",
    "\n",
    "            "
   ]
  },
  {
   "cell_type": "code",
   "execution_count": 7,
   "outputs": [
    {
     "data": {
      "text/plain": "         kbid language           title  count\n0      100076       fa             MI5      1\n1      100161       ar     Bobby Darin      1\n2      100180       ko      Iron Cross      2\n3        1004       ru           April     30\n4     1004834       fa   Isère (river)      1\n...       ...      ...             ...    ...\n4101  9965489       ru       Cassidini      1\n4102  9988187       ar         Twitter      1\n4103  9988187       ko         Twitter      1\n4104  9988187       ru         Twitter      1\n4105  9996763       fa  Giuliano Sarti      1\n\n[4106 rows x 4 columns]",
      "text/html": "<div>\n<style scoped>\n    .dataframe tbody tr th:only-of-type {\n        vertical-align: middle;\n    }\n\n    .dataframe tbody tr th {\n        vertical-align: top;\n    }\n\n    .dataframe thead th {\n        text-align: right;\n    }\n</style>\n<table border=\"1\" class=\"dataframe\">\n  <thead>\n    <tr style=\"text-align: right;\">\n      <th></th>\n      <th>kbid</th>\n      <th>language</th>\n      <th>title</th>\n      <th>count</th>\n    </tr>\n  </thead>\n  <tbody>\n    <tr>\n      <td>0</td>\n      <td>100076</td>\n      <td>fa</td>\n      <td>MI5</td>\n      <td>1</td>\n    </tr>\n    <tr>\n      <td>1</td>\n      <td>100161</td>\n      <td>ar</td>\n      <td>Bobby Darin</td>\n      <td>1</td>\n    </tr>\n    <tr>\n      <td>2</td>\n      <td>100180</td>\n      <td>ko</td>\n      <td>Iron Cross</td>\n      <td>2</td>\n    </tr>\n    <tr>\n      <td>3</td>\n      <td>1004</td>\n      <td>ru</td>\n      <td>April</td>\n      <td>30</td>\n    </tr>\n    <tr>\n      <td>4</td>\n      <td>1004834</td>\n      <td>fa</td>\n      <td>Isère (river)</td>\n      <td>1</td>\n    </tr>\n    <tr>\n      <td>...</td>\n      <td>...</td>\n      <td>...</td>\n      <td>...</td>\n      <td>...</td>\n    </tr>\n    <tr>\n      <td>4101</td>\n      <td>9965489</td>\n      <td>ru</td>\n      <td>Cassidini</td>\n      <td>1</td>\n    </tr>\n    <tr>\n      <td>4102</td>\n      <td>9988187</td>\n      <td>ar</td>\n      <td>Twitter</td>\n      <td>1</td>\n    </tr>\n    <tr>\n      <td>4103</td>\n      <td>9988187</td>\n      <td>ko</td>\n      <td>Twitter</td>\n      <td>1</td>\n    </tr>\n    <tr>\n      <td>4104</td>\n      <td>9988187</td>\n      <td>ru</td>\n      <td>Twitter</td>\n      <td>1</td>\n    </tr>\n    <tr>\n      <td>4105</td>\n      <td>9996763</td>\n      <td>fa</td>\n      <td>Giuliano Sarti</td>\n      <td>1</td>\n    </tr>\n  </tbody>\n</table>\n<p>4106 rows × 4 columns</p>\n</div>"
     },
     "metadata": {},
     "output_type": "execute_result",
     "execution_count": 7
    }
   ],
   "source": [
    "per_lang = pd.pivot_table(entities_df, index=[\"kbid\", \"language\", \"title\"], \n",
    "                                 values=[], \n",
    "                                 aggfunc=len).reset_index()\n",
    "per_lang = per_lang.rename(columns={0:\"count\"})\n",
    "per_lang"
   ],
   "metadata": {
    "collapsed": false,
    "pycharm": {
     "name": "#%%\n",
     "is_executing": false
    }
   }
  },
  {
   "cell_type": "code",
   "execution_count": 12,
   "outputs": [
    {
     "data": {
      "text/plain": "      count         lang      kbid               title  count_ar  count_ko  \\\n1959   4165  ru,ko,ar,fa   3434750       United States      1229       908   \n2931   2823  ru,ko,ar,fa      5405               China       856       796   \n2794   1562  ru,ko,ar,fa   5042481                Cuba       195       310   \n1790    514           ko     31717      United Kingdom         0       514   \n507     458  ru,ko,ar,fa     15573               Japan        14       238   \n...     ...          ...       ...                 ...       ...       ...   \n1596      1           ru     28706               SECAM         0         0   \n1600      1           ru  28769803      Old Mon script         0         0   \n1601      1           ar    287740          James Hunt         1         0   \n1603      1           ko  28847431  KBO Futures League         0         1   \n3757      1           fa   9996763      Giuliano Sarti         0         0   \n\n      count_fa  count_ru  \n1959       661      1367  \n2931       381       790  \n2794       449       608  \n1790         0         0  \n507         93       113  \n...        ...       ...  \n1596         0         1  \n1600         0         1  \n1601         0         0  \n1603         0         0  \n3757         1         0  \n\n[3758 rows x 8 columns]",
      "text/html": "<div>\n<style scoped>\n    .dataframe tbody tr th:only-of-type {\n        vertical-align: middle;\n    }\n\n    .dataframe tbody tr th {\n        vertical-align: top;\n    }\n\n    .dataframe thead th {\n        text-align: right;\n    }\n</style>\n<table border=\"1\" class=\"dataframe\">\n  <thead>\n    <tr style=\"text-align: right;\">\n      <th></th>\n      <th>count</th>\n      <th>lang</th>\n      <th>kbid</th>\n      <th>title</th>\n      <th>count_ar</th>\n      <th>count_ko</th>\n      <th>count_fa</th>\n      <th>count_ru</th>\n    </tr>\n  </thead>\n  <tbody>\n    <tr>\n      <td>1959</td>\n      <td>4165</td>\n      <td>ru,ko,ar,fa</td>\n      <td>3434750</td>\n      <td>United States</td>\n      <td>1229</td>\n      <td>908</td>\n      <td>661</td>\n      <td>1367</td>\n    </tr>\n    <tr>\n      <td>2931</td>\n      <td>2823</td>\n      <td>ru,ko,ar,fa</td>\n      <td>5405</td>\n      <td>China</td>\n      <td>856</td>\n      <td>796</td>\n      <td>381</td>\n      <td>790</td>\n    </tr>\n    <tr>\n      <td>2794</td>\n      <td>1562</td>\n      <td>ru,ko,ar,fa</td>\n      <td>5042481</td>\n      <td>Cuba</td>\n      <td>195</td>\n      <td>310</td>\n      <td>449</td>\n      <td>608</td>\n    </tr>\n    <tr>\n      <td>1790</td>\n      <td>514</td>\n      <td>ko</td>\n      <td>31717</td>\n      <td>United Kingdom</td>\n      <td>0</td>\n      <td>514</td>\n      <td>0</td>\n      <td>0</td>\n    </tr>\n    <tr>\n      <td>507</td>\n      <td>458</td>\n      <td>ru,ko,ar,fa</td>\n      <td>15573</td>\n      <td>Japan</td>\n      <td>14</td>\n      <td>238</td>\n      <td>93</td>\n      <td>113</td>\n    </tr>\n    <tr>\n      <td>...</td>\n      <td>...</td>\n      <td>...</td>\n      <td>...</td>\n      <td>...</td>\n      <td>...</td>\n      <td>...</td>\n      <td>...</td>\n      <td>...</td>\n    </tr>\n    <tr>\n      <td>1596</td>\n      <td>1</td>\n      <td>ru</td>\n      <td>28706</td>\n      <td>SECAM</td>\n      <td>0</td>\n      <td>0</td>\n      <td>0</td>\n      <td>1</td>\n    </tr>\n    <tr>\n      <td>1600</td>\n      <td>1</td>\n      <td>ru</td>\n      <td>28769803</td>\n      <td>Old Mon script</td>\n      <td>0</td>\n      <td>0</td>\n      <td>0</td>\n      <td>1</td>\n    </tr>\n    <tr>\n      <td>1601</td>\n      <td>1</td>\n      <td>ar</td>\n      <td>287740</td>\n      <td>James Hunt</td>\n      <td>1</td>\n      <td>0</td>\n      <td>0</td>\n      <td>0</td>\n    </tr>\n    <tr>\n      <td>1603</td>\n      <td>1</td>\n      <td>ko</td>\n      <td>28847431</td>\n      <td>KBO Futures League</td>\n      <td>0</td>\n      <td>1</td>\n      <td>0</td>\n      <td>0</td>\n    </tr>\n    <tr>\n      <td>3757</td>\n      <td>1</td>\n      <td>fa</td>\n      <td>9996763</td>\n      <td>Giuliano Sarti</td>\n      <td>0</td>\n      <td>0</td>\n      <td>1</td>\n      <td>0</td>\n    </tr>\n  </tbody>\n</table>\n<p>3758 rows × 8 columns</p>\n</div>"
     },
     "metadata": {},
     "output_type": "execute_result",
     "execution_count": 12
    }
   ],
   "source": [
    "by_kbid = []\n",
    "for kbid in per_lang[\"kbid\"].unique():\n",
    "    kbid_ids = per_lang[per_lang[\"kbid\"] == kbid]\n",
    "    count = 0\n",
    "    lang_set = set()\n",
    "    title = \"\"\n",
    "    lang_counts = defaultdict(lambda : 0)\n",
    "    for i, row in kbid_ids.iterrows():\n",
    "        count += row[\"count\"]\n",
    "        lang_set.add(row[\"language\"])\n",
    "        title = row[\"title\"]\n",
    "        lang_counts[row['language']] += row[\"count\"]\n",
    "    by_kbid.append({\n",
    "        \"count\" : count,\n",
    "        \"lang\" : \",\".join(lang_set),\n",
    "        \"kbid\" : kbid,\n",
    "        \"title\" : title\n",
    "    })\n",
    "    for language in [\"ar\", \"ko\", \"fa\", \"ru\"]:\n",
    "        if language in lang_counts:\n",
    "            by_kbid[-1][f\"count_{language}\"] = lang_counts[language]\n",
    "        else:\n",
    "            by_kbid[-1][f\"count_{language}\"] = 0\n",
    "kbid_df = pd.DataFrame().from_dict(by_kbid).sort_values(by=\"count\", ascending=False)\n",
    "kbid_df"
   ],
   "metadata": {
    "collapsed": false,
    "pycharm": {
     "name": "#%%\n",
     "is_executing": false
    }
   }
  },
  {
   "cell_type": "code",
   "execution_count": 14,
   "outputs": [
    {
     "data": {
      "text/plain": "           lang  count      perc\n13  ru,ko,ar,fa  12608  0.485296\n3            ko   4438  0.170824\n0            ar   2544  0.097921\n2            fa   2541  0.097806\n7            ru   2427  0.093418\n9      ru,ar,fa    286  0.011008\n14     ru,ko,fa    237  0.009122\n1         ar,fa    224  0.008622\n8         ru,ar    156  0.006005\n4         ko,ar    148  0.005697\n12     ru,ko,ar    125  0.004811\n10        ru,fa    106  0.004080\n6         ko,fa     86  0.003310\n5      ko,ar,fa     28  0.001078\n11        ru,ko     26  0.001001",
      "text/html": "<div>\n<style scoped>\n    .dataframe tbody tr th:only-of-type {\n        vertical-align: middle;\n    }\n\n    .dataframe tbody tr th {\n        vertical-align: top;\n    }\n\n    .dataframe thead th {\n        text-align: right;\n    }\n</style>\n<table border=\"1\" class=\"dataframe\">\n  <thead>\n    <tr style=\"text-align: right;\">\n      <th></th>\n      <th>lang</th>\n      <th>count</th>\n      <th>perc</th>\n    </tr>\n  </thead>\n  <tbody>\n    <tr>\n      <td>13</td>\n      <td>ru,ko,ar,fa</td>\n      <td>12608</td>\n      <td>0.485296</td>\n    </tr>\n    <tr>\n      <td>3</td>\n      <td>ko</td>\n      <td>4438</td>\n      <td>0.170824</td>\n    </tr>\n    <tr>\n      <td>0</td>\n      <td>ar</td>\n      <td>2544</td>\n      <td>0.097921</td>\n    </tr>\n    <tr>\n      <td>2</td>\n      <td>fa</td>\n      <td>2541</td>\n      <td>0.097806</td>\n    </tr>\n    <tr>\n      <td>7</td>\n      <td>ru</td>\n      <td>2427</td>\n      <td>0.093418</td>\n    </tr>\n    <tr>\n      <td>9</td>\n      <td>ru,ar,fa</td>\n      <td>286</td>\n      <td>0.011008</td>\n    </tr>\n    <tr>\n      <td>14</td>\n      <td>ru,ko,fa</td>\n      <td>237</td>\n      <td>0.009122</td>\n    </tr>\n    <tr>\n      <td>1</td>\n      <td>ar,fa</td>\n      <td>224</td>\n      <td>0.008622</td>\n    </tr>\n    <tr>\n      <td>8</td>\n      <td>ru,ar</td>\n      <td>156</td>\n      <td>0.006005</td>\n    </tr>\n    <tr>\n      <td>4</td>\n      <td>ko,ar</td>\n      <td>148</td>\n      <td>0.005697</td>\n    </tr>\n    <tr>\n      <td>12</td>\n      <td>ru,ko,ar</td>\n      <td>125</td>\n      <td>0.004811</td>\n    </tr>\n    <tr>\n      <td>10</td>\n      <td>ru,fa</td>\n      <td>106</td>\n      <td>0.004080</td>\n    </tr>\n    <tr>\n      <td>6</td>\n      <td>ko,fa</td>\n      <td>86</td>\n      <td>0.003310</td>\n    </tr>\n    <tr>\n      <td>5</td>\n      <td>ko,ar,fa</td>\n      <td>28</td>\n      <td>0.001078</td>\n    </tr>\n    <tr>\n      <td>11</td>\n      <td>ru,ko</td>\n      <td>26</td>\n      <td>0.001001</td>\n    </tr>\n  </tbody>\n</table>\n</div>"
     },
     "metadata": {},
     "output_type": "execute_result",
     "execution_count": 14
    }
   ],
   "source": [
    "by_lang = pd.pivot_table(kbid_df, index=[\"lang\"], \n",
    "                                 values=[\"count\"], \n",
    "                                 aggfunc=sum).reset_index().sort_values(by=\"count\", ascending=False)\n",
    "by_lang['perc'] = by_lang['count'] / sum(by_lang['count'])\n",
    "by_lang"
   ],
   "metadata": {
    "collapsed": false,
    "pycharm": {
     "name": "#%%\n",
     "is_executing": false
    }
   }
  },
  {
   "cell_type": "code",
   "execution_count": 18,
   "outputs": [
    {
     "data": {
      "text/plain": "           lang  count  count_ar  count_fa  count_ko  count_ru      perc  \\\n13  ru,ko,ar,fa  12608      3156      2298      3267      3887  0.485296   \n3            ko   4438         0         0      4438         0  0.170824   \n0            ar   2544      2544         0         0         0  0.097921   \n2            fa   2541         0      2541         0         0  0.097806   \n7            ru   2427         0         0         0      2427  0.093418   \n9      ru,ar,fa    286        82        93         0       111  0.011008   \n14     ru,ko,fa    237         0        54        60       123  0.009122   \n1         ar,fa    224       183        41         0         0  0.008622   \n8         ru,ar    156        53         0         0       103  0.006005   \n4         ko,ar    148        54         0        94         0  0.005697   \n12     ru,ko,ar    125        39         0        46        40  0.004811   \n10        ru,fa    106         0        35         0        71  0.004080   \n6         ko,fa     86         0        31        55         0  0.003310   \n5      ko,ar,fa     28         9        10         9         0  0.001078   \n11        ru,ko     26         0         0        10        16  0.001001   \n\n     perc_ar   perc_ko   perc_fa   perc_ru  \n13  0.515686  0.409450  0.450323  0.573473  \n3   0.000000  0.556210  0.000000  0.000000  \n0   0.415686  0.000000  0.000000  0.000000  \n2   0.000000  0.000000  0.497942  0.000000  \n7   0.000000  0.000000  0.000000  0.358070  \n9   0.013399  0.000000  0.018225  0.016377  \n14  0.000000  0.007520  0.010582  0.018147  \n1   0.029902  0.000000  0.008034  0.000000  \n8   0.008660  0.000000  0.000000  0.015196  \n4   0.008824  0.011781  0.000000  0.000000  \n12  0.006373  0.005765  0.000000  0.005901  \n10  0.000000  0.000000  0.006859  0.010475  \n6   0.000000  0.006893  0.006075  0.000000  \n5   0.001471  0.001128  0.001960  0.000000  \n11  0.000000  0.001253  0.000000  0.002361  ",
      "text/html": "<div>\n<style scoped>\n    .dataframe tbody tr th:only-of-type {\n        vertical-align: middle;\n    }\n\n    .dataframe tbody tr th {\n        vertical-align: top;\n    }\n\n    .dataframe thead th {\n        text-align: right;\n    }\n</style>\n<table border=\"1\" class=\"dataframe\">\n  <thead>\n    <tr style=\"text-align: right;\">\n      <th></th>\n      <th>lang</th>\n      <th>count</th>\n      <th>count_ar</th>\n      <th>count_fa</th>\n      <th>count_ko</th>\n      <th>count_ru</th>\n      <th>perc</th>\n      <th>perc_ar</th>\n      <th>perc_ko</th>\n      <th>perc_fa</th>\n      <th>perc_ru</th>\n    </tr>\n  </thead>\n  <tbody>\n    <tr>\n      <td>13</td>\n      <td>ru,ko,ar,fa</td>\n      <td>12608</td>\n      <td>3156</td>\n      <td>2298</td>\n      <td>3267</td>\n      <td>3887</td>\n      <td>0.485296</td>\n      <td>0.515686</td>\n      <td>0.409450</td>\n      <td>0.450323</td>\n      <td>0.573473</td>\n    </tr>\n    <tr>\n      <td>3</td>\n      <td>ko</td>\n      <td>4438</td>\n      <td>0</td>\n      <td>0</td>\n      <td>4438</td>\n      <td>0</td>\n      <td>0.170824</td>\n      <td>0.000000</td>\n      <td>0.556210</td>\n      <td>0.000000</td>\n      <td>0.000000</td>\n    </tr>\n    <tr>\n      <td>0</td>\n      <td>ar</td>\n      <td>2544</td>\n      <td>2544</td>\n      <td>0</td>\n      <td>0</td>\n      <td>0</td>\n      <td>0.097921</td>\n      <td>0.415686</td>\n      <td>0.000000</td>\n      <td>0.000000</td>\n      <td>0.000000</td>\n    </tr>\n    <tr>\n      <td>2</td>\n      <td>fa</td>\n      <td>2541</td>\n      <td>0</td>\n      <td>2541</td>\n      <td>0</td>\n      <td>0</td>\n      <td>0.097806</td>\n      <td>0.000000</td>\n      <td>0.000000</td>\n      <td>0.497942</td>\n      <td>0.000000</td>\n    </tr>\n    <tr>\n      <td>7</td>\n      <td>ru</td>\n      <td>2427</td>\n      <td>0</td>\n      <td>0</td>\n      <td>0</td>\n      <td>2427</td>\n      <td>0.093418</td>\n      <td>0.000000</td>\n      <td>0.000000</td>\n      <td>0.000000</td>\n      <td>0.358070</td>\n    </tr>\n    <tr>\n      <td>9</td>\n      <td>ru,ar,fa</td>\n      <td>286</td>\n      <td>82</td>\n      <td>93</td>\n      <td>0</td>\n      <td>111</td>\n      <td>0.011008</td>\n      <td>0.013399</td>\n      <td>0.000000</td>\n      <td>0.018225</td>\n      <td>0.016377</td>\n    </tr>\n    <tr>\n      <td>14</td>\n      <td>ru,ko,fa</td>\n      <td>237</td>\n      <td>0</td>\n      <td>54</td>\n      <td>60</td>\n      <td>123</td>\n      <td>0.009122</td>\n      <td>0.000000</td>\n      <td>0.007520</td>\n      <td>0.010582</td>\n      <td>0.018147</td>\n    </tr>\n    <tr>\n      <td>1</td>\n      <td>ar,fa</td>\n      <td>224</td>\n      <td>183</td>\n      <td>41</td>\n      <td>0</td>\n      <td>0</td>\n      <td>0.008622</td>\n      <td>0.029902</td>\n      <td>0.000000</td>\n      <td>0.008034</td>\n      <td>0.000000</td>\n    </tr>\n    <tr>\n      <td>8</td>\n      <td>ru,ar</td>\n      <td>156</td>\n      <td>53</td>\n      <td>0</td>\n      <td>0</td>\n      <td>103</td>\n      <td>0.006005</td>\n      <td>0.008660</td>\n      <td>0.000000</td>\n      <td>0.000000</td>\n      <td>0.015196</td>\n    </tr>\n    <tr>\n      <td>4</td>\n      <td>ko,ar</td>\n      <td>148</td>\n      <td>54</td>\n      <td>0</td>\n      <td>94</td>\n      <td>0</td>\n      <td>0.005697</td>\n      <td>0.008824</td>\n      <td>0.011781</td>\n      <td>0.000000</td>\n      <td>0.000000</td>\n    </tr>\n    <tr>\n      <td>12</td>\n      <td>ru,ko,ar</td>\n      <td>125</td>\n      <td>39</td>\n      <td>0</td>\n      <td>46</td>\n      <td>40</td>\n      <td>0.004811</td>\n      <td>0.006373</td>\n      <td>0.005765</td>\n      <td>0.000000</td>\n      <td>0.005901</td>\n    </tr>\n    <tr>\n      <td>10</td>\n      <td>ru,fa</td>\n      <td>106</td>\n      <td>0</td>\n      <td>35</td>\n      <td>0</td>\n      <td>71</td>\n      <td>0.004080</td>\n      <td>0.000000</td>\n      <td>0.000000</td>\n      <td>0.006859</td>\n      <td>0.010475</td>\n    </tr>\n    <tr>\n      <td>6</td>\n      <td>ko,fa</td>\n      <td>86</td>\n      <td>0</td>\n      <td>31</td>\n      <td>55</td>\n      <td>0</td>\n      <td>0.003310</td>\n      <td>0.000000</td>\n      <td>0.006893</td>\n      <td>0.006075</td>\n      <td>0.000000</td>\n    </tr>\n    <tr>\n      <td>5</td>\n      <td>ko,ar,fa</td>\n      <td>28</td>\n      <td>9</td>\n      <td>10</td>\n      <td>9</td>\n      <td>0</td>\n      <td>0.001078</td>\n      <td>0.001471</td>\n      <td>0.001128</td>\n      <td>0.001960</td>\n      <td>0.000000</td>\n    </tr>\n    <tr>\n      <td>11</td>\n      <td>ru,ko</td>\n      <td>26</td>\n      <td>0</td>\n      <td>0</td>\n      <td>10</td>\n      <td>16</td>\n      <td>0.001001</td>\n      <td>0.000000</td>\n      <td>0.001253</td>\n      <td>0.000000</td>\n      <td>0.002361</td>\n    </tr>\n  </tbody>\n</table>\n</div>"
     },
     "metadata": {},
     "output_type": "execute_result",
     "execution_count": 18
    }
   ],
   "source": [
    "\n",
    "by_lang = pd.pivot_table(kbid_df, index=[\"lang\"], \n",
    "                                 values=[\"count\", \"count_ar\", \"count_ko\", \"count_ru\", \"count_fa\"], \n",
    "                                 aggfunc=sum).reset_index().sort_values(by=\"count\", ascending=False)\n",
    "by_lang['perc'] = by_lang['count'] / sum(by_lang['count'])\n",
    "for language in [\"ar\", \"ko\", \"fa\", \"ru\"]:\n",
    "    by_lang[f'perc_{language}'] = by_lang[f'count_{language}'] / sum(by_lang[f'count_{language}'])\n",
    "\n",
    "by_lang"
   ],
   "metadata": {
    "collapsed": false,
    "pycharm": {
     "name": "#%%\n",
     "is_executing": false
    }
   }
  },
  {
   "cell_type": "code",
   "execution_count": 31,
   "outputs": [
    {
     "data": {
      "text/plain": "           lang  count  kbid\n0            ar   2544   890\n1         ar,fa    224    17\n2            fa   2541   891\n3            ko   4438   899\n4         ko,ar    148    18\n5      ko,ar,fa     28     6\n6         ko,fa     86    15\n7            ru   2427   891\n8         ru,ar    156    17\n9      ru,ar,fa    286    12\n10        ru,fa    106    12\n11        ru,ko     26     6\n12     ru,ko,ar    125    12\n13  ru,ko,ar,fa  12608    59\n14     ru,ko,fa    237    13",
      "text/html": "<div>\n<style scoped>\n    .dataframe tbody tr th:only-of-type {\n        vertical-align: middle;\n    }\n\n    .dataframe tbody tr th {\n        vertical-align: top;\n    }\n\n    .dataframe thead th {\n        text-align: right;\n    }\n</style>\n<table border=\"1\" class=\"dataframe\">\n  <thead>\n    <tr style=\"text-align: right;\">\n      <th></th>\n      <th>lang</th>\n      <th>count</th>\n      <th>kbid</th>\n    </tr>\n  </thead>\n  <tbody>\n    <tr>\n      <td>0</td>\n      <td>ar</td>\n      <td>2544</td>\n      <td>890</td>\n    </tr>\n    <tr>\n      <td>1</td>\n      <td>ar,fa</td>\n      <td>224</td>\n      <td>17</td>\n    </tr>\n    <tr>\n      <td>2</td>\n      <td>fa</td>\n      <td>2541</td>\n      <td>891</td>\n    </tr>\n    <tr>\n      <td>3</td>\n      <td>ko</td>\n      <td>4438</td>\n      <td>899</td>\n    </tr>\n    <tr>\n      <td>4</td>\n      <td>ko,ar</td>\n      <td>148</td>\n      <td>18</td>\n    </tr>\n    <tr>\n      <td>5</td>\n      <td>ko,ar,fa</td>\n      <td>28</td>\n      <td>6</td>\n    </tr>\n    <tr>\n      <td>6</td>\n      <td>ko,fa</td>\n      <td>86</td>\n      <td>15</td>\n    </tr>\n    <tr>\n      <td>7</td>\n      <td>ru</td>\n      <td>2427</td>\n      <td>891</td>\n    </tr>\n    <tr>\n      <td>8</td>\n      <td>ru,ar</td>\n      <td>156</td>\n      <td>17</td>\n    </tr>\n    <tr>\n      <td>9</td>\n      <td>ru,ar,fa</td>\n      <td>286</td>\n      <td>12</td>\n    </tr>\n    <tr>\n      <td>10</td>\n      <td>ru,fa</td>\n      <td>106</td>\n      <td>12</td>\n    </tr>\n    <tr>\n      <td>11</td>\n      <td>ru,ko</td>\n      <td>26</td>\n      <td>6</td>\n    </tr>\n    <tr>\n      <td>12</td>\n      <td>ru,ko,ar</td>\n      <td>125</td>\n      <td>12</td>\n    </tr>\n    <tr>\n      <td>13</td>\n      <td>ru,ko,ar,fa</td>\n      <td>12608</td>\n      <td>59</td>\n    </tr>\n    <tr>\n      <td>14</td>\n      <td>ru,ko,fa</td>\n      <td>237</td>\n      <td>13</td>\n    </tr>\n  </tbody>\n</table>\n</div>"
     },
     "metadata": {},
     "output_type": "execute_result",
     "execution_count": 31
    }
   ],
   "source": [
    "kbid_acc = pd.pivot_table(kbid_df, index=[\"lang\"], \n",
    "                                 values=[\"kbid\", \"count\"], \n",
    "                                 aggfunc={\"kbid\" : pd.Series.nunique, \"count\" : sum}).reset_index()\n",
    "kbid_acc\n"
   ],
   "metadata": {
    "collapsed": false,
    "pycharm": {
     "name": "#%%\n",
     "is_executing": false
    }
   }
  }
 ],
 "metadata": {
  "kernelspec": {
   "display_name": "Python 3",
   "language": "python",
   "name": "python3"
  },
  "language_info": {
   "codemirror_mode": {
    "name": "ipython",
    "version": 2
   },
   "file_extension": ".py",
   "mimetype": "text/x-python",
   "name": "python",
   "nbconvert_exporter": "python",
   "pygments_lexer": "ipython2",
   "version": "2.7.6"
  },
  "pycharm": {
   "stem_cell": {
    "cell_type": "raw",
    "source": [],
    "metadata": {
     "collapsed": false
    }
   }
  }
 },
 "nbformat": 4,
 "nbformat_minor": 0
}