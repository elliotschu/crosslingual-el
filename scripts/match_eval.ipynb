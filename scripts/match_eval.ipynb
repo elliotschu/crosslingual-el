{
 "cells": [
  {
   "cell_type": "code",
   "execution_count": 22,
   "metadata": {
    "collapsed": true,
    "pycharm": {
     "is_executing": false,
     "name": "#%%\n"
    }
   },
   "outputs": [
    {
     "data": {
      "text/plain": "        link_id lang  query_id\n1885   m.09c7w0  CMN      1515\n2099   m.0d05w3  CMN       824\n963     m.03h64  CMN       650\n1886   m.09c7w0  ENG       628\n2093   m.0d04z6  CMN       556\n...         ...  ...       ...\n1115  m.047drb0  CMN         1\n1113  m.047c82x  ENG         1\n1112  m.0478__m  ENG         1\n1108   m.046tsq  CMN         1\n2664  m.0zn17kc  ENG         1\n\n[2665 rows x 3 columns]",
      "text/html": "<div>\n<style scoped>\n    .dataframe tbody tr th:only-of-type {\n        vertical-align: middle;\n    }\n\n    .dataframe tbody tr th {\n        vertical-align: top;\n    }\n\n    .dataframe thead th {\n        text-align: right;\n    }\n</style>\n<table border=\"1\" class=\"dataframe\">\n  <thead>\n    <tr style=\"text-align: right;\">\n      <th></th>\n      <th>link_id</th>\n      <th>lang</th>\n      <th>query_id</th>\n    </tr>\n  </thead>\n  <tbody>\n    <tr>\n      <td>1885</td>\n      <td>m.09c7w0</td>\n      <td>CMN</td>\n      <td>1515</td>\n    </tr>\n    <tr>\n      <td>2099</td>\n      <td>m.0d05w3</td>\n      <td>CMN</td>\n      <td>824</td>\n    </tr>\n    <tr>\n      <td>963</td>\n      <td>m.03h64</td>\n      <td>CMN</td>\n      <td>650</td>\n    </tr>\n    <tr>\n      <td>1886</td>\n      <td>m.09c7w0</td>\n      <td>ENG</td>\n      <td>628</td>\n    </tr>\n    <tr>\n      <td>2093</td>\n      <td>m.0d04z6</td>\n      <td>CMN</td>\n      <td>556</td>\n    </tr>\n    <tr>\n      <td>...</td>\n      <td>...</td>\n      <td>...</td>\n      <td>...</td>\n    </tr>\n    <tr>\n      <td>1115</td>\n      <td>m.047drb0</td>\n      <td>CMN</td>\n      <td>1</td>\n    </tr>\n    <tr>\n      <td>1113</td>\n      <td>m.047c82x</td>\n      <td>ENG</td>\n      <td>1</td>\n    </tr>\n    <tr>\n      <td>1112</td>\n      <td>m.0478__m</td>\n      <td>ENG</td>\n      <td>1</td>\n    </tr>\n    <tr>\n      <td>1108</td>\n      <td>m.046tsq</td>\n      <td>CMN</td>\n      <td>1</td>\n    </tr>\n    <tr>\n      <td>2664</td>\n      <td>m.0zn17kc</td>\n      <td>ENG</td>\n      <td>1</td>\n    </tr>\n  </tbody>\n</table>\n<p>2665 rows × 3 columns</p>\n</div>"
     },
     "metadata": {},
     "output_type": "execute_result",
     "execution_count": 22
    }
   ],
   "source": [
    "\n",
    "import pandas as pd\n",
    "import pickle\n",
    "timestamp = \"run_2020_04_20_19_20_19_ALL_r2n07\"\n",
    "epoch = \"249\"\n",
    "filename = f\"/Users/elliotschumacher/Dropbox/git/clel/results/{timestamp}/eval_{epoch}.xlsx\"\n",
    "data_file = \"/Users/elliotschumacher/Dropbox/git/clel/datasets/LDC2019T02/ENG/tac_kbp_2015_tedl_training_gold_standard_entity_mentions.tab\"\n",
    "\n",
    "df = pd.read_excel(filename)\n",
    "header_list = [\"system_id\", \"query_id\", \"mention_string\", \"doc_id_offsets\", \"link_id\", \"entity_type\", \"mention_type\",\n",
    "               \"confidence\", \"web_search\", \"wiki_text\", \"unknown\"]\n",
    "data = pd.read_csv(data_file, sep=\"\\t\", names=header_list, header=None,)\n",
    "\n",
    "\n",
    "\n",
    "data = data[~data['link_id'].str.startswith('NIL')]\n",
    "data['lang'] =  data.apply (lambda row: row['doc_id_offsets'][:3], axis=1)\n",
    "\n",
    "popularity = pd.pivot_table(data, index=[\"link_id\", \"lang\"],\n",
    "                            values=\"query_id\",\n",
    "                             aggfunc=\"count\").reset_index().sort_values(by=\"query_id\", ascending=False)\n",
    "popularity"
   ]
  },
  {
   "cell_type": "code",
   "execution_count": 37,
   "outputs": [
    {
     "name": "stdout",
     "text": [
      "{'m.0f1lfn': 84, 'm.0qtngg8': 19, 'm.0hzlz': 29, 'm.02mjmr': 98, 'm.01gcjq': 12, 'm.0c0cs': 5, 'm.0cv_2': 2, 'm.0c0bf': 2, 'm.07ylj': 8, 'm.07t65': 15, 'm.0d3qd0': 6, 'm.09c7w0': 263, 'm.0d04z6': 70, 'm.07c5l': 1, 'm.05qx1': 1, 'm.01cx_': 34, 'm.05k7sb': 7, 'm.0t4r0zs': 59, 'm.04rwx': 2, 'm.0d05w3': 9, 'm.0d6hn': 3, 'm.09k0f': 5, 'm.0d6qjf': 2, 'm.04pnx': 2, 'm.0261m': 3, 'm.0n9sd9l': 2, 'm.09j2x': 4, 'm.0hzrl7z': 41, 'm.07b_l': 11, 'm.0j0k': 1, 'm.0d05q4': 58, 'm.05gnf': 1, 'm.02czjf': 1, 'm.01kk8b': 3, 'm.01skqzw': 3, 'm.01crd5': 1, 'm.02_286': 6, 'm.0bwh6': 3, 'm.07wh1': 1, 'm.07vsl': 10, 'm.03_r3': 1, 'm.05fz6q': 37, 'm.06bnz': 78, 'm.0cv92n': 1, 'm.04swd': 20, 'm.0fm2h': 77, 'm.03shp': 57, 'm.027x630': 106, 'm.03spz': 102, 'm.04zxt7x': 1, 'm.0g9z94d': 1, 'm.01dcs1': 8, 'm.0cf7z6': 3, 'm.07wbk': 14, 'm.04wsz': 6, 'm.0d075m': 10, 'm.039rwf': 2, 'm.0b3wk': 3, 'm.081sq': 9, 'm.02j9z': 6, 'm.07t21': 13, 'm.07t58': 2, 'm.06mzp': 5, 'm.0c1pjf': 3, 'm.07ssc': 25, 'm.0f8l9c': 8, 'm.0345h': 9, 'm.07t31': 14, 'm.067z4': 9, 'm.0gsgr': 3, 'm.0dg3n1': 1, 'm.05d49': 1, 'm.07vnr': 4, 'm.0gkjy': 1, 'm.0gvr1cs': 1, 'm.0g9x775': 1, 'm.021lry': 14, 'm.01tr1': 15, 'm.01z215': 1, 'm.0v74': 14, 'm.04hqz': 2, 'm.06vbd': 23, 'm.0h7q0rq': 3, 'm.0rh6k': 15, 'm.06n3y': 1, 'm.059g4': 3, 'm.02dlk9': 1, 'm.0ps53': 2, 'm.09b6zr': 4, 'm.06mkj': 2, 'm.05ngt2': 1, 'm.06c62': 1, 'm.08193': 24, 'm.0430_': 2, 'm.0157m': 3, 'm.01chwz': 1, 'm.0d06m5': 92, 'm.01krs': 3, 'm.0642d9w': 1, 'm.0m465': 1, 'm.02fsw8': 1, 'm.09shn': 1, 'm.01z5y': 1, 'm.0jdd': 1, 'm.0g284': 2, 'm.04jpl': 2, 'm.05v8dt9': 1, 'm.02k54': 3, 'm.07wg3': 1, 'm.03gyl': 2, 'm.03__y': 2, 'm.03hz03': 1, 'm.01cgxp': 1, 'm.01bqks': 2, 'm.0ncl8zk': 2, 'm.0g5rcy7': 4, 'm.047876': 7, 'm.0d060g': 1, 'm.0_6t_z8': 5, 'm.059rby': 1, 'm.07xg1': 1, 'm.05p1f_5': 1, 'm.04s9n': 1, 'm.01tkzh': 1, 'm.01czt9': 3, 'm.0154j': 1, 'm.02qg4z': 1, 'm.05qtj': 1, 'm.0fqw_s': 1, 'm.07y0n': 1, 'm.0280k2k': 2, 'm.05vz3zq': 4, 'm.04l_r': 1, 'm.03rk0': 1, 'm.01k0p4': 7, 'm.0357_': 1, 'm.082pc': 4, 'm.04gqr': 4, 'm.0661z': 1, 'm.0225tg': 1, 'm.05wh0sh': 1, 'm.04b6p': 1, 'm.059dn': 1, 'm.08w60w': 1, 'm.0f2rq': 1, 'm.01znc_': 5, 'm.079dy': 4, 'm.03_lf': 2, 'm.0697s': 1, 'm.01_vwx': 2, 'm.016mbz': 2, 'm.0509p': 1, 'm.0b90_r': 2, 'm.0jgx': 1, 'm.03m6j': 1, 'm.019x9z': 1, 'm.0d1_f': 1, 'm.09b69': 1, 'm.01ls2': 2, 'm.0f2v0': 1, 'm.03_3d': 1, 'm.03ksy': 1, 'm.09b3v': 1}\n",
      "1872\n",
      "7812\n",
      "7812\n",
      "5616\n"
     ],
     "output_type": "stream"
    }
   ],
   "source": [
    "training_total = 0\n",
    "eval_total = 0\n",
    "training_entities = set()\n",
    "eval_entites = {}\n",
    "\n",
    "eval_query_ids = set()\n",
    "training_query_ids = set()\n",
    "\n",
    "for link_id in data['link_id'].unique():\n",
    "    link_id_counts = popularity[popularity['link_id'] == link_id]\n",
    "    if len(link_id_counts) == 3:\n",
    "        min_count = link_id_counts['query_id'].min()\n",
    "    else:\n",
    "        min_count = 0\n",
    "    these_queries = data[data[\"link_id\"] == link_id]\n",
    "    if min_count > 0:\n",
    "        eval_entites[link_id] = min_count\n",
    "        eval_total += min_count\n",
    "        for lang in ['ENG', 'SPA', 'CMN']:\n",
    "            these_queries_lang = these_queries[these_queries['lang'] == lang].sample(min_count)\n",
    "            eval_query_ids.update(these_queries_lang['query_id'])\n",
    "    else:\n",
    "        training_total += link_id_counts['query_id'].sum()\n",
    "        training_entities.add(link_id)\n",
    "        training_query_ids.update(these_queries['query_id'])\n",
    "print(eval_entites)\n",
    "print(eval_total)\n",
    "print(training_total)\n",
    "print(len(training_query_ids))\n",
    "print(len(eval_query_ids))\n",
    "with open(f\"/Users/elliotschumacher/Dropbox/git/clel/datasets/LDC2019T02/query_splits/eval_query_ids.pkl\", 'wb') as f:\n",
    "    pickle.dump(eval_query_ids, f)\n",
    "with open(f\"/Users/elliotschumacher/Dropbox/git/clel/datasets/LDC2019T02/query_splits/training_query_ids.pkl\", 'wb') as f:\n",
    "    pickle.dump(training_query_ids, f)    "
   ],
   "metadata": {
    "collapsed": false,
    "pycharm": {
     "name": "#%%\n",
     "is_executing": false
    }
   }
  }
 ],
 "metadata": {
  "kernelspec": {
   "display_name": "Python 3",
   "language": "python",
   "name": "python3"
  },
  "language_info": {
   "codemirror_mode": {
    "name": "ipython",
    "version": 2
   },
   "file_extension": ".py",
   "mimetype": "text/x-python",
   "name": "python",
   "nbconvert_exporter": "python",
   "pygments_lexer": "ipython2",
   "version": "2.7.6"
  },
  "pycharm": {
   "stem_cell": {
    "cell_type": "raw",
    "source": [],
    "metadata": {
     "collapsed": false
    }
   }
  }
 },
 "nbformat": 4,
 "nbformat_minor": 0
}