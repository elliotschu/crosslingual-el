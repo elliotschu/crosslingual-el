{
 "cells": [
  {
   "cell_type": "code",
   "execution_count": 1,
   "metadata": {
    "collapsed": true,
    "pycharm": {
     "is_executing": false
    }
   },
   "outputs": [
    {
     "data": {
      "text/plain": "        link_id  query_id\n1219   m.09c7w0      1913\n1349   m.0d05w3       695\n397   m.027x630       592\n1351   m.0d06m5       585\n628     m.03h64       552\n...         ...       ...\n1003   m.06g3tb         1\n352    m.025svn         1\n1005    m.06hrk         1\n1007    m.06hx2         1\n1710  m.0zn17kc         1\n\n[1711 rows x 2 columns]",
      "text/html": "<div>\n<style scoped>\n    .dataframe tbody tr th:only-of-type {\n        vertical-align: middle;\n    }\n\n    .dataframe tbody tr th {\n        vertical-align: top;\n    }\n\n    .dataframe thead th {\n        text-align: right;\n    }\n</style>\n<table border=\"1\" class=\"dataframe\">\n  <thead>\n    <tr style=\"text-align: right;\">\n      <th></th>\n      <th>link_id</th>\n      <th>query_id</th>\n    </tr>\n  </thead>\n  <tbody>\n    <tr>\n      <td>1219</td>\n      <td>m.09c7w0</td>\n      <td>1913</td>\n    </tr>\n    <tr>\n      <td>1349</td>\n      <td>m.0d05w3</td>\n      <td>695</td>\n    </tr>\n    <tr>\n      <td>397</td>\n      <td>m.027x630</td>\n      <td>592</td>\n    </tr>\n    <tr>\n      <td>1351</td>\n      <td>m.0d06m5</td>\n      <td>585</td>\n    </tr>\n    <tr>\n      <td>628</td>\n      <td>m.03h64</td>\n      <td>552</td>\n    </tr>\n    <tr>\n      <td>...</td>\n      <td>...</td>\n      <td>...</td>\n    </tr>\n    <tr>\n      <td>1003</td>\n      <td>m.06g3tb</td>\n      <td>1</td>\n    </tr>\n    <tr>\n      <td>352</td>\n      <td>m.025svn</td>\n      <td>1</td>\n    </tr>\n    <tr>\n      <td>1005</td>\n      <td>m.06hrk</td>\n      <td>1</td>\n    </tr>\n    <tr>\n      <td>1007</td>\n      <td>m.06hx2</td>\n      <td>1</td>\n    </tr>\n    <tr>\n      <td>1710</td>\n      <td>m.0zn17kc</td>\n      <td>1</td>\n    </tr>\n  </tbody>\n</table>\n<p>1711 rows × 2 columns</p>\n</div>"
     },
     "metadata": {},
     "output_type": "execute_result",
     "execution_count": 1
    }
   ],
   "source": [
    "\n",
    "import pandas as pd\n",
    "import pickle\n",
    "timestamp = \"run_2021_01_11_17_00_30_ALL_8995431_r2n07_all\"\n",
    "epoch = \"499\"\n",
    "filename = f\"/Users/elliotschumacher/Dropbox/git/clel/results/{timestamp}/eval_{epoch}.xlsx\"\n",
    "data_file = \"/Users/elliotschumacher/Dropbox/git/clel/datasets/LDC2019T02/ENG/tac_kbp_2015_tedl_training_gold_standard_entity_mentions.tab\"\n",
    "\n",
    "df = pd.read_excel(filename)\n",
    "header_list = [\"system_id\", \"query_id\", \"mention_string\", \"doc_id_offsets\", \"link_id\", \"entity_type\", \"mention_type\",\n",
    "               \"confidence\", \"web_search\", \"wiki_text\", \"unknown\"]\n",
    "data = pd.read_csv(data_file, sep=\"\\t\", names=header_list, header=None,)\n",
    "\n",
    "eval_mentions = set()\n",
    "for i, row_a in df.iterrows():\n",
    "    eval_mentions.add(row_a['~~mention_uuid'])\n",
    "\n",
    "with open(f'/Users/elliotschumacher/Dropbox/git/clel/results/{timestamp}/training_ENG.pkl', 'rb') as pkl_f:\n",
    "    training_queries = pickle.load(pkl_f)\n",
    "# only en training\n",
    "#data = data[data.query_id.isin(training_queries)]\n",
    "\n",
    "# all training\n",
    "data = data[~data.query_id.isin(eval_mentions)]\n",
    "data = data[~data['link_id'].str.startswith('NIL')]\n",
    "\n",
    "\n",
    "popularity = pd.pivot_table(data, index=[\"link_id\"],\n",
    "                            values=\"query_id\",\n",
    "                             aggfunc=\"count\").reset_index().sort_values(by=\"query_id\", ascending=False)\n",
    "popularity"
   ]
  },
  {
   "cell_type": "code",
   "execution_count": 2,
   "outputs": [
    {
     "name": "stdout",
     "text": [
      "0.6547788873038516\n",
      "0.4818830242510699\n",
      "0.22353780313837376\n"
     ],
     "output_type": "stream"
    }
   ],
   "source": [
    "import re\n",
    "regex = re.compile(r'\\(([0-9.-]+)\\)')\n",
    "\n",
    "pop_correct = 0\n",
    "orig_correct = 0\n",
    "total = 0\n",
    "changed = 0\n",
    "from codebase import el_scorer\n",
    "import os\n",
    "fn_path = os.path.dirname(filename)\n",
    "os.makedirs(os.path.join(fn_path,\"orig\"), exist_ok=True)\n",
    "os.makedirs(os.path.join(fn_path,\"pop\"), exist_ok=True)\n",
    "\n",
    "gold_file = open(os.path.join(fn_path,\"gold.tac\"), 'w')\n",
    "orig_file = open(os.path.join(fn_path,\"orig\", \"-1\"), 'w')\n",
    "pop_file = open(os.path.join(fn_path,\"pop\", \"-1\"), 'w')\n",
    "\n",
    "from collections import defaultdict\n",
    "orig_dict = {}\n",
    "pop_dict = {}\n",
    "gold_dict = {}\n",
    "for lang in [\"SPA\", \"ENG\", \"CMN\"]:\n",
    "    os.makedirs(os.path.join(fn_path,f\"orig_{lang}\"), exist_ok=True)\n",
    "    os.makedirs(os.path.join(fn_path,f\"pop_{lang}\"), exist_ok=True)\n",
    "\n",
    "    orig_dict[lang] = open(os.path.join(fn_path,f\"orig_{lang}\", \"-1\"), 'w')\n",
    "    pop_dict[lang] = open(os.path.join(fn_path,f\"pop_{lang}\", \"-1\"), 'w') \n",
    "    gold_dict[lang] = open(os.path.join(fn_path,f\"gold_{lang}.tac\"), 'w') \n",
    "\n",
    "for i, row in df.iterrows():\n",
    "    top10 = []\n",
    "    score10 = []\n",
    "    lang = os.path.basename(row['~~comm'])[:3]\n",
    "    for j in range(10):\n",
    "        cn = f\"~pred_cuis_{j}\"\n",
    "        if type(row[cn]) is not float:\n",
    "            cui, rest = row[cn].split(\"=\", 1)\n",
    "            score = float(\"-inf\")\n",
    "            if \"(-inf)\" not in rest:\n",
    "                score = float(regex.findall(rest)[-1])\n",
    "                score10.append(score)\n",
    "                top10.append(cui)\n",
    "    gold = row[\"_gold_kbid\"]\n",
    "    these_pop = popularity[popularity[\"link_id\"].isin(top10)].sort_values(by=\"query_id\", ascending=False)\n",
    "    \n",
    "    if len(top10) > 0:\n",
    "        predicted = top10[0]\n",
    "        original = top10[0]\n",
    "\n",
    "    else:\n",
    "        predicted = \"NIL\"\n",
    "        original = \"NIL\"\n",
    "    \n",
    "    if len(these_pop) > 0:\n",
    "        predicted = these_pop[\"link_id\"].iloc[0]\n",
    "\n",
    "    if predicted == gold:\n",
    "        pop_correct += 1.\n",
    "    \n",
    "    if original == gold:\n",
    "        orig_correct += 1.\n",
    "    if predicted != original:\n",
    "        changed += 1.\n",
    "    total += 1.\n",
    "    gold_file.write(f\"{row['~~mention_uuid']} {gold}\\n\")\n",
    "    orig_file.write(f\"{row['~~mention_uuid']} {original}\\n\")\n",
    "    pop_file.write(f\"{row['~~mention_uuid']} {predicted}\\n\")\n",
    "    \n",
    "    gold_dict[lang].write(f\"{row['~~mention_uuid']} {gold}\\n\")\n",
    "    orig_dict[lang].write(f\"{row['~~mention_uuid']} {original}\\n\")\n",
    "    pop_dict[lang].write(f\"{row['~~mention_uuid']} {predicted}\\n\")\n",
    "\n",
    "print(pop_correct/total)\n",
    "print(orig_correct/total)\n",
    "\n",
    "print(changed / total)\n",
    "gold_file.close()\n",
    "orig_file.close()\n",
    "pop_file.close()\n",
    "\n",
    "\n",
    "orig_results = el_scorer.systemsRankingScript(goldStdFile= os.path.join(fn_path,\"gold.tac\"),\n",
    "                               systemsDir= os.path.join(fn_path, 'orig'),\n",
    "                               focusElFile= os.path.join(fn_path,\"gold.tac\"))\n",
    "orig_df = pd.DataFrame.from_dict(orig_results)\n",
    "orig_df['system_name'] = \"original\"\n",
    "pop_results = el_scorer.systemsRankingScript(goldStdFile= os.path.join(fn_path,\"gold.tac\"),\n",
    "                               systemsDir= os.path.join(fn_path, 'pop'),\n",
    "                               focusElFile= os.path.join(fn_path,\"gold.tac\"))\n",
    "pop_df = pd.DataFrame.from_dict(pop_results)\n",
    "pop_df['system_name'] = \"popular\"\n",
    "\n",
    "\n",
    "combined_df = pd.concat([orig_df, pop_df])\n",
    "combined_df.sort_values('system_name')\n",
    "combined_df.to_csv(os.path.join(fn_path, 'comparison.csv'), index=False,)\n",
    "\n",
    "\n",
    "\n",
    "for lang in [\"ENG\", \"SPA\", \"CMN\"]:\n",
    "    gold_dict[lang].close()\n",
    "    orig_dict[lang].close()\n",
    "    pop_dict[lang].close()\n",
    "    \n",
    "    orig_results = el_scorer.systemsRankingScript(goldStdFile= os.path.join(fn_path,f\"gold_{lang}.tac\"),\n",
    "                               systemsDir= os.path.join(fn_path, f'orig_{lang}'),\n",
    "                               focusElFile= os.path.join(fn_path,f\"gold_{lang}.tac\"))\n",
    "    orig_df = pd.DataFrame.from_dict(orig_results)\n",
    "    orig_df['system_name'] = \"original\"\n",
    "    pop_results = el_scorer.systemsRankingScript(goldStdFile= os.path.join(fn_path,f\"gold_{lang}.tac\"),\n",
    "                                   systemsDir= os.path.join(fn_path, f'pop_{lang}'),\n",
    "                                   focusElFile= os.path.join(fn_path,f\"gold_{lang}.tac\"))\n",
    "    pop_df = pd.DataFrame.from_dict(pop_results)\n",
    "    pop_df['system_name'] = \"popular\"\n",
    "    \n",
    "    \n",
    "    combined_df = pd.concat([orig_df, pop_df])\n",
    "    combined_df.sort_values('system_name')\n",
    "    combined_df.to_csv(os.path.join(fn_path, f'comparison_{lang}.csv'), index=False,)\n"
   ],
   "metadata": {
    "collapsed": false,
    "pycharm": {
     "name": "#%%\n",
     "is_executing": false
    }
   }
  },
  {
   "cell_type": "code",
   "execution_count": 3,
   "outputs": [
    {
     "name": "stdout",
     "text": [
      "0.22353780313837376\n",
      "0.0\n"
     ],
     "output_type": "stream"
    }
   ],
   "source": [
    "#timestamp = \"run_2020_05_08_23_03_35_ALL_r2n03\"\n",
    "#epoch = \"249\"\n",
    "filename_aux = f\"/Users/elliotschumacher/Dropbox/git/clel/results/{timestamp}/eval_{epoch}.xlsx\"\n",
    "\n",
    "df_aux = pd.read_excel(filename_aux)\n",
    "pop_correct = 0\n",
    "orig_correct = 0\n",
    "total = 0\n",
    "changed = 0\n",
    "aux_oracle_agreement = 0\n",
    "\n",
    "changed_rows = []\n",
    "score_regex = re.compile(r\"(\\s\\(.*\\)$)\", re.IGNORECASE)\n",
    "for i, row in df.iterrows():\n",
    "    aux_row = df_aux[df_aux['~~mention_uuid'] == row['~~mention_uuid']] \n",
    "    aux_top10 = []\n",
    "    for j in range(10):\n",
    "        cn = f\"~pred_cuis_{j}\"\n",
    "        if type(row[cn]) is not float:\n",
    "    \n",
    "            cui, rest = row[cn].split(\"=\", 1)\n",
    "            score = float(\"-inf\")\n",
    "            if \"(-inf)\" not in rest:\n",
    "                score = float(regex.findall(rest)[-1])\n",
    "                aux_top10.append({\"cui\": cui, \"score\" : score, \"name\" : rest})\n",
    "    if len(aux_top10) > 0:\n",
    "        aux_prediction = aux_top10[0][\"cui\"]\n",
    "    else:\n",
    "        aux_prediction = \"NIL\"\n",
    "                \n",
    "    \n",
    "    top10 = []\n",
    "    lang = os.path.basename(row['~~comm'])[:3]\n",
    "    for j in range(10):\n",
    "        cn = f\"~pred_cuis_{j}\"\n",
    "        if type(row[cn]) is not float:\n",
    "    \n",
    "            cui, rest = row[cn].split(\"=\", 1)\n",
    "            score = float(\"-inf\")\n",
    "            if \"(-inf)\" not in rest:\n",
    "                score = float(regex.findall(rest)[-1])\n",
    "                top10.append({\"cui\": cui, \"score\" : score, \"name\" : rest})\n",
    "    gold = row[\"_gold_kbid\"]\n",
    "    these_pop = popularity[popularity[\"link_id\"].isin([x[\"cui\"] for x in top10])].sort_values(by=\"query_id\", ascending=False)\n",
    "    \n",
    "    if len(top10) > 0:\n",
    "        predicted = top10[0][\"cui\"]\n",
    "        original = top10[0][\"cui\"]\n",
    "        predicted_name = top10[0][\"name\"]\n",
    "\n",
    "    else:\n",
    "        predicted = \"NIL\"\n",
    "        original = \"NIL\"\n",
    "        predicted_name = \"NIL\"\n",
    "    \n",
    "    if len(these_pop) > 0:\n",
    "        predicted = these_pop[\"link_id\"].iloc[0]\n",
    "        \n",
    "\n",
    "    if predicted == gold:\n",
    "        pop_correct += 1.\n",
    "    \n",
    "    if original == gold:\n",
    "        orig_correct += 1.\n",
    "        \n",
    "    if predicted != original:\n",
    "        changed += 1.\n",
    "        ch_row = row.to_dict()\n",
    "        pop_name = [x[\"name\"] for x in top10 if x[\"cui\"] == predicted][0]\n",
    "        pop_name = re.sub(score_regex, \"\", pop_name)\n",
    "        orig_name = re.sub(score_regex, \"\", top10[0][\"name\"])\n",
    "        ch_row.update({\n",
    "            \"original_name\" : orig_name,\n",
    "            \"original_cui\" : top10[0][\"cui\"],\n",
    "            \"popular_cui\" : predicted,\n",
    "            \"popular_name\" : pop_name\n",
    "        })\n",
    "        changed_rows.append(ch_row)\n",
    "        if aux_prediction == predicted:\n",
    "            aux_oracle_agreement += 1.\n",
    "    total += 1.\n",
    "print(changed/total)\n",
    "print(aux_oracle_agreement / changed)\n",
    "\n",
    "changed_df = pd.DataFrame.from_dict(changed_rows)\n",
    "\n",
    "\n"
   ],
   "metadata": {
    "collapsed": false,
    "pycharm": {
     "name": "#%%\n",
     "is_executing": false
    }
   }
  },
  {
   "cell_type": "code",
   "execution_count": 3,
   "outputs": [],
   "source": [],
   "metadata": {
    "collapsed": false,
    "pycharm": {
     "name": "#%%\n",
     "is_executing": false
    }
   }
  },
  {
   "cell_type": "code",
   "execution_count": 4,
   "outputs": [],
   "source": [
    "changed_df.to_csv(os.path.join(fn_path, f'changed.csv'), index=False,)\n",
    "\n",
    "\n"
   ],
   "metadata": {
    "collapsed": false,
    "pycharm": {
     "name": "#%%\n",
     "is_executing": false
    }
   }
  },
  {
   "cell_type": "code",
   "execution_count": 5,
   "outputs": [
    {
     "name": "stderr",
     "text": [
      "/Users/elliotschumacher/.conda/envs/clel/lib/python3.7/site-packages/ipykernel_launcher.py:2: SettingWithCopyWarning: \n",
      "A value is trying to be set on a copy of a slice from a DataFrame.\n",
      "Try using .loc[row_indexer,col_indexer] = value instead\n",
      "\n",
      "See the caveats in the documentation: http://pandas.pydata.org/pandas-docs/stable/user_guide/indexing.html#returning-a-view-versus-a-copy\n",
      "  \n",
      "/Users/elliotschumacher/.conda/envs/clel/lib/python3.7/site-packages/ipykernel_launcher.py:3: SettingWithCopyWarning: \n",
      "A value is trying to be set on a copy of a slice from a DataFrame.\n",
      "Try using .loc[row_indexer,col_indexer] = value instead\n",
      "\n",
      "See the caveats in the documentation: http://pandas.pydata.org/pandas-docs/stable/user_guide/indexing.html#returning-a-view-versus-a-copy\n",
      "  This is separate from the ipykernel package so we can avoid doing imports until\n"
     ],
     "output_type": "stream"
    },
    {
     "data": {
      "text/plain": "                _text                                          _sentence  \\\n3           Pistorius  <DOC id=\"SPA_NW_001096_20140320_F0000003N\">\\n<...   \n4     Oscar Pistorius  <DOC id=\"SPA_NW_001096_20140320_F0000003N\">\\n<...   \n5           Pistorius  </P>\\n<P>\\n“Es necesario vender la casa de Pis...   \n6           Pistorius  </P>\\n<P>\\nCon sus prótesis de carbono, dos cu...   \n7           Pistorius  </P>\\n<P>\\nDesde que ocurrió dicho tiroteo, Pi...   \n...               ...                                                ...   \n1559          Hillary  Everything about Hillary I read or post will b...   \n1560          Hillary  God speed Hillary, see you in the Oval Office ...   \n1561          Clinton  Clinton/Castro would blow up Jeb's dream of al...   \n1562          Hillary  We are gonna be just fine in the Hillary Room ...   \n1563          Hillary                   We Rock the Hillary Room man!!\\n   \n\n     _gold_kbid  _gold_cui_rank  _gold_cui_score  _num_kb_cands  \\\n3      m.0f1lfn             6.0         0.088196            157   \n4      m.0f1lfn             5.0        -0.049316            111   \n5      m.0f1lfn             6.0        -0.650391            157   \n6      m.0f1lfn             7.0        -0.712891            157   \n7      m.0f1lfn             8.0        -0.629883            157   \n...         ...             ...              ...            ...   \n1559   m.0d06m5             3.0        -0.959961            198   \n1560   m.0d06m5             3.0        -0.729980            198   \n1561   m.0d06m5             3.0        -0.945801            198   \n1562   m.0d06m5             2.0        -0.950195            198   \n1563   m.0d06m5             3.0        -0.923828            198   \n\n             ~~mention_uuid  \\\n3     TEDL15_TRAINING_10476   \n4     TEDL15_TRAINING_10477   \n5     TEDL15_TRAINING_10478   \n6     TEDL15_TRAINING_10479   \n7     TEDL15_TRAINING_10480   \n...                     ...   \n1559  TEDL15_TRAINING_26103   \n1560  TEDL15_TRAINING_26104   \n1561  TEDL15_TRAINING_26106   \n1562  TEDL15_TRAINING_26109   \n1563  TEDL15_TRAINING_26110   \n\n                                                 ~~comm  \\\n3     /exp/eschumacher/clel_data/LDC2019T02/SPA/trai...   \n4     /exp/eschumacher/clel_data/LDC2019T02/SPA/trai...   \n5     /exp/eschumacher/clel_data/LDC2019T02/SPA/trai...   \n6     /exp/eschumacher/clel_data/LDC2019T02/SPA/trai...   \n7     /exp/eschumacher/clel_data/LDC2019T02/SPA/trai...   \n...                                                 ...   \n1559  /exp/eschumacher/clel_data/LDC2019T02/ENG/trai...   \n1560  /exp/eschumacher/clel_data/LDC2019T02/ENG/trai...   \n1561  /exp/eschumacher/clel_data/LDC2019T02/ENG/trai...   \n1562  /exp/eschumacher/clel_data/LDC2019T02/ENG/trai...   \n1563  /exp/eschumacher/clel_data/LDC2019T02/ENG/trai...   \n\n                                           ~pred_cuis_0  \\\n3                       m.0khp_px=Carl Pistorius (0.88)   \n4                       m.0khp_px=Carl Pistorius (0.99)   \n5                       m.0khp_px=Carl Pistorius (0.85)   \n6                       m.0khp_px=Carl Pistorius (0.98)   \n7                       m.0khp_px=Carl Pistorius (0.97)   \n...                                                 ...   \n1559                      m.0jrc0=edmund_hillary (0.20)   \n1560                      m.0jrc0=edmund_hillary (0.08)   \n1561                      m.0t0yj2=Bill Clinton (-0.61)   \n1562                     m.0jrc0=edmund_hillary (-0.58)   \n1563  m.0gqnvs=Hillary Rodham Clinton presidential c...   \n\n                                           ~pred_cuis_1  ... no_cands  \\\n3                      m.0khp_pk=Aimée Pistorius (0.78)  ...      0.0   \n4                     m.0v468p5=Sheila Pistorius (0.72)  ...      0.0   \n5                     m.0v468p5=Sheila Pistorius (0.83)  ...      0.0   \n6                      m.0cg1xfw=Boris Pistorius (0.04)  ...      0.0   \n7                     m.0v468p5=Sheila Pistorius (0.91)  ...      0.0   \n...                                                 ...  ...      ...   \n1559               m.0g99ln=USS Hillary Clinton (-0.86)  ...      0.0   \n1560                m.0qn_496=The_frozen_vagina (-0.44)  ...      0.0   \n1561                     m.0d_m6=clinton_county (-0.94)  ...      0.0   \n1562  m.0d06m5=First lady Hillary Rodham Clinton (-0...  ...      0.0   \n1563                     m.0jrc0=edmund_hillary (-0.92)  ...      0.0   \n\n     accuracy max_accuracy min_accuracy  \\\n3         0.0          0.0          0.0   \n4         0.0          0.0          0.0   \n5         0.0          0.0          0.0   \n6         0.0          0.0          0.0   \n7         0.0          0.0          0.0   \n...       ...          ...          ...   \n1559      0.0          0.0          0.0   \n1560      0.0          0.0          0.0   \n1561      0.0          0.0          0.0   \n1562      0.0          0.0          0.0   \n1563      0.0          0.0          0.0   \n\n                                          original_name original_cui  \\\n3                                        Carl Pistorius    m.0khp_px   \n4                                        Carl Pistorius    m.0khp_px   \n5                                        Carl Pistorius    m.0khp_px   \n6                                        Carl Pistorius    m.0khp_px   \n7                                        Carl Pistorius    m.0khp_px   \n...                                                 ...          ...   \n1559                                     edmund_hillary      m.0jrc0   \n1560                                     edmund_hillary      m.0jrc0   \n1561                                       Bill Clinton     m.0t0yj2   \n1562                                     edmund_hillary      m.0jrc0   \n1563  Hillary Rodham Clinton presidential campaign, ...     m.0gqnvs   \n\n     popular_cui                       popular_name pop_freq  lang  \n3       m.0f1lfn       Oscar Leonard Carl Pistorius       26   SPA  \n4       m.0f1lfn       Oscar Leonard Carl Pistorius       26   SPA  \n5       m.0f1lfn       Oscar Leonard Carl Pistorius       26   SPA  \n6       m.0f1lfn       Oscar Leonard Carl Pistorius       26   SPA  \n7       m.0f1lfn       Oscar Leonard Carl Pistorius       26   SPA  \n...          ...                                ...      ...   ...  \n1559    m.0d06m5  First lady Hillary Rodham Clinton       71   ENG  \n1560    m.0d06m5  First lady Hillary Rodham Clinton       71   ENG  \n1561    m.0d06m5  First lady Hillary Rodham Clinton       71   ENG  \n1562    m.0d06m5  First lady Hillary Rodham Clinton       71   ENG  \n1563    m.0d06m5  First lady Hillary Rodham Clinton       71   ENG  \n\n[1238 rows x 32 columns]",
      "text/html": "<div>\n<style scoped>\n    .dataframe tbody tr th:only-of-type {\n        vertical-align: middle;\n    }\n\n    .dataframe tbody tr th {\n        vertical-align: top;\n    }\n\n    .dataframe thead th {\n        text-align: right;\n    }\n</style>\n<table border=\"1\" class=\"dataframe\">\n  <thead>\n    <tr style=\"text-align: right;\">\n      <th></th>\n      <th>_text</th>\n      <th>_sentence</th>\n      <th>_gold_kbid</th>\n      <th>_gold_cui_rank</th>\n      <th>_gold_cui_score</th>\n      <th>_num_kb_cands</th>\n      <th>~~mention_uuid</th>\n      <th>~~comm</th>\n      <th>~pred_cuis_0</th>\n      <th>~pred_cuis_1</th>\n      <th>...</th>\n      <th>no_cands</th>\n      <th>accuracy</th>\n      <th>max_accuracy</th>\n      <th>min_accuracy</th>\n      <th>original_name</th>\n      <th>original_cui</th>\n      <th>popular_cui</th>\n      <th>popular_name</th>\n      <th>pop_freq</th>\n      <th>lang</th>\n    </tr>\n  </thead>\n  <tbody>\n    <tr>\n      <td>3</td>\n      <td>Pistorius</td>\n      <td>&lt;DOC id=\"SPA_NW_001096_20140320_F0000003N\"&gt;\\n&lt;...</td>\n      <td>m.0f1lfn</td>\n      <td>6.0</td>\n      <td>0.088196</td>\n      <td>157</td>\n      <td>TEDL15_TRAINING_10476</td>\n      <td>/exp/eschumacher/clel_data/LDC2019T02/SPA/trai...</td>\n      <td>m.0khp_px=Carl Pistorius (0.88)</td>\n      <td>m.0khp_pk=Aimée Pistorius (0.78)</td>\n      <td>...</td>\n      <td>0.0</td>\n      <td>0.0</td>\n      <td>0.0</td>\n      <td>0.0</td>\n      <td>Carl Pistorius</td>\n      <td>m.0khp_px</td>\n      <td>m.0f1lfn</td>\n      <td>Oscar Leonard Carl Pistorius</td>\n      <td>26</td>\n      <td>SPA</td>\n    </tr>\n    <tr>\n      <td>4</td>\n      <td>Oscar Pistorius</td>\n      <td>&lt;DOC id=\"SPA_NW_001096_20140320_F0000003N\"&gt;\\n&lt;...</td>\n      <td>m.0f1lfn</td>\n      <td>5.0</td>\n      <td>-0.049316</td>\n      <td>111</td>\n      <td>TEDL15_TRAINING_10477</td>\n      <td>/exp/eschumacher/clel_data/LDC2019T02/SPA/trai...</td>\n      <td>m.0khp_px=Carl Pistorius (0.99)</td>\n      <td>m.0v468p5=Sheila Pistorius (0.72)</td>\n      <td>...</td>\n      <td>0.0</td>\n      <td>0.0</td>\n      <td>0.0</td>\n      <td>0.0</td>\n      <td>Carl Pistorius</td>\n      <td>m.0khp_px</td>\n      <td>m.0f1lfn</td>\n      <td>Oscar Leonard Carl Pistorius</td>\n      <td>26</td>\n      <td>SPA</td>\n    </tr>\n    <tr>\n      <td>5</td>\n      <td>Pistorius</td>\n      <td>&lt;/P&gt;\\n&lt;P&gt;\\n“Es necesario vender la casa de Pis...</td>\n      <td>m.0f1lfn</td>\n      <td>6.0</td>\n      <td>-0.650391</td>\n      <td>157</td>\n      <td>TEDL15_TRAINING_10478</td>\n      <td>/exp/eschumacher/clel_data/LDC2019T02/SPA/trai...</td>\n      <td>m.0khp_px=Carl Pistorius (0.85)</td>\n      <td>m.0v468p5=Sheila Pistorius (0.83)</td>\n      <td>...</td>\n      <td>0.0</td>\n      <td>0.0</td>\n      <td>0.0</td>\n      <td>0.0</td>\n      <td>Carl Pistorius</td>\n      <td>m.0khp_px</td>\n      <td>m.0f1lfn</td>\n      <td>Oscar Leonard Carl Pistorius</td>\n      <td>26</td>\n      <td>SPA</td>\n    </tr>\n    <tr>\n      <td>6</td>\n      <td>Pistorius</td>\n      <td>&lt;/P&gt;\\n&lt;P&gt;\\nCon sus prótesis de carbono, dos cu...</td>\n      <td>m.0f1lfn</td>\n      <td>7.0</td>\n      <td>-0.712891</td>\n      <td>157</td>\n      <td>TEDL15_TRAINING_10479</td>\n      <td>/exp/eschumacher/clel_data/LDC2019T02/SPA/trai...</td>\n      <td>m.0khp_px=Carl Pistorius (0.98)</td>\n      <td>m.0cg1xfw=Boris Pistorius (0.04)</td>\n      <td>...</td>\n      <td>0.0</td>\n      <td>0.0</td>\n      <td>0.0</td>\n      <td>0.0</td>\n      <td>Carl Pistorius</td>\n      <td>m.0khp_px</td>\n      <td>m.0f1lfn</td>\n      <td>Oscar Leonard Carl Pistorius</td>\n      <td>26</td>\n      <td>SPA</td>\n    </tr>\n    <tr>\n      <td>7</td>\n      <td>Pistorius</td>\n      <td>&lt;/P&gt;\\n&lt;P&gt;\\nDesde que ocurrió dicho tiroteo, Pi...</td>\n      <td>m.0f1lfn</td>\n      <td>8.0</td>\n      <td>-0.629883</td>\n      <td>157</td>\n      <td>TEDL15_TRAINING_10480</td>\n      <td>/exp/eschumacher/clel_data/LDC2019T02/SPA/trai...</td>\n      <td>m.0khp_px=Carl Pistorius (0.97)</td>\n      <td>m.0v468p5=Sheila Pistorius (0.91)</td>\n      <td>...</td>\n      <td>0.0</td>\n      <td>0.0</td>\n      <td>0.0</td>\n      <td>0.0</td>\n      <td>Carl Pistorius</td>\n      <td>m.0khp_px</td>\n      <td>m.0f1lfn</td>\n      <td>Oscar Leonard Carl Pistorius</td>\n      <td>26</td>\n      <td>SPA</td>\n    </tr>\n    <tr>\n      <td>...</td>\n      <td>...</td>\n      <td>...</td>\n      <td>...</td>\n      <td>...</td>\n      <td>...</td>\n      <td>...</td>\n      <td>...</td>\n      <td>...</td>\n      <td>...</td>\n      <td>...</td>\n      <td>...</td>\n      <td>...</td>\n      <td>...</td>\n      <td>...</td>\n      <td>...</td>\n      <td>...</td>\n      <td>...</td>\n      <td>...</td>\n      <td>...</td>\n      <td>...</td>\n      <td>...</td>\n    </tr>\n    <tr>\n      <td>1559</td>\n      <td>Hillary</td>\n      <td>Everything about Hillary I read or post will b...</td>\n      <td>m.0d06m5</td>\n      <td>3.0</td>\n      <td>-0.959961</td>\n      <td>198</td>\n      <td>TEDL15_TRAINING_26103</td>\n      <td>/exp/eschumacher/clel_data/LDC2019T02/ENG/trai...</td>\n      <td>m.0jrc0=edmund_hillary (0.20)</td>\n      <td>m.0g99ln=USS Hillary Clinton (-0.86)</td>\n      <td>...</td>\n      <td>0.0</td>\n      <td>0.0</td>\n      <td>0.0</td>\n      <td>0.0</td>\n      <td>edmund_hillary</td>\n      <td>m.0jrc0</td>\n      <td>m.0d06m5</td>\n      <td>First lady Hillary Rodham Clinton</td>\n      <td>71</td>\n      <td>ENG</td>\n    </tr>\n    <tr>\n      <td>1560</td>\n      <td>Hillary</td>\n      <td>God speed Hillary, see you in the Oval Office ...</td>\n      <td>m.0d06m5</td>\n      <td>3.0</td>\n      <td>-0.729980</td>\n      <td>198</td>\n      <td>TEDL15_TRAINING_26104</td>\n      <td>/exp/eschumacher/clel_data/LDC2019T02/ENG/trai...</td>\n      <td>m.0jrc0=edmund_hillary (0.08)</td>\n      <td>m.0qn_496=The_frozen_vagina (-0.44)</td>\n      <td>...</td>\n      <td>0.0</td>\n      <td>0.0</td>\n      <td>0.0</td>\n      <td>0.0</td>\n      <td>edmund_hillary</td>\n      <td>m.0jrc0</td>\n      <td>m.0d06m5</td>\n      <td>First lady Hillary Rodham Clinton</td>\n      <td>71</td>\n      <td>ENG</td>\n    </tr>\n    <tr>\n      <td>1561</td>\n      <td>Clinton</td>\n      <td>Clinton/Castro would blow up Jeb's dream of al...</td>\n      <td>m.0d06m5</td>\n      <td>3.0</td>\n      <td>-0.945801</td>\n      <td>198</td>\n      <td>TEDL15_TRAINING_26106</td>\n      <td>/exp/eschumacher/clel_data/LDC2019T02/ENG/trai...</td>\n      <td>m.0t0yj2=Bill Clinton (-0.61)</td>\n      <td>m.0d_m6=clinton_county (-0.94)</td>\n      <td>...</td>\n      <td>0.0</td>\n      <td>0.0</td>\n      <td>0.0</td>\n      <td>0.0</td>\n      <td>Bill Clinton</td>\n      <td>m.0t0yj2</td>\n      <td>m.0d06m5</td>\n      <td>First lady Hillary Rodham Clinton</td>\n      <td>71</td>\n      <td>ENG</td>\n    </tr>\n    <tr>\n      <td>1562</td>\n      <td>Hillary</td>\n      <td>We are gonna be just fine in the Hillary Room ...</td>\n      <td>m.0d06m5</td>\n      <td>2.0</td>\n      <td>-0.950195</td>\n      <td>198</td>\n      <td>TEDL15_TRAINING_26109</td>\n      <td>/exp/eschumacher/clel_data/LDC2019T02/ENG/trai...</td>\n      <td>m.0jrc0=edmund_hillary (-0.58)</td>\n      <td>m.0d06m5=First lady Hillary Rodham Clinton (-0...</td>\n      <td>...</td>\n      <td>0.0</td>\n      <td>0.0</td>\n      <td>0.0</td>\n      <td>0.0</td>\n      <td>edmund_hillary</td>\n      <td>m.0jrc0</td>\n      <td>m.0d06m5</td>\n      <td>First lady Hillary Rodham Clinton</td>\n      <td>71</td>\n      <td>ENG</td>\n    </tr>\n    <tr>\n      <td>1563</td>\n      <td>Hillary</td>\n      <td>We Rock the Hillary Room man!!\\n</td>\n      <td>m.0d06m5</td>\n      <td>3.0</td>\n      <td>-0.923828</td>\n      <td>198</td>\n      <td>TEDL15_TRAINING_26110</td>\n      <td>/exp/eschumacher/clel_data/LDC2019T02/ENG/trai...</td>\n      <td>m.0gqnvs=Hillary Rodham Clinton presidential c...</td>\n      <td>m.0jrc0=edmund_hillary (-0.92)</td>\n      <td>...</td>\n      <td>0.0</td>\n      <td>0.0</td>\n      <td>0.0</td>\n      <td>0.0</td>\n      <td>Hillary Rodham Clinton presidential campaign, ...</td>\n      <td>m.0gqnvs</td>\n      <td>m.0d06m5</td>\n      <td>First lady Hillary Rodham Clinton</td>\n      <td>71</td>\n      <td>ENG</td>\n    </tr>\n  </tbody>\n</table>\n<p>1238 rows × 32 columns</p>\n</div>"
     },
     "metadata": {},
     "output_type": "execute_result",
     "execution_count": 5
    }
   ],
   "source": [
    "changed_correct_df = changed_df[changed_df[\"popular_cui\"] == changed_df[\"_gold_kbid\"]]\n",
    "changed_correct_df[\"pop_freq\"] = changed_correct_df.groupby('popular_cui')['popular_cui'].transform('count')\n",
    "changed_correct_df[\"lang\"] = changed_correct_df.apply(lambda r: os.path.basename(r[\"~~comm\"]).split('_')[0], axis = 1) \n",
    "changed_correct_df.to_csv(os.path.join(fn_path, f'changed_correct.csv'), index=False,)\n",
    "changed_correct_df"
   ],
   "metadata": {
    "collapsed": false,
    "pycharm": {
     "name": "#%%\n",
     "is_executing": false
    }
   }
  },
  {
   "cell_type": "code",
   "execution_count": 6,
   "outputs": [
    {
     "data": {
      "text/plain": "    original_cui popular_cui  \\\n313    m.0t4r17x   m.0t4r0zs   \n58      m.036wjf   m.0t4r0zs   \n330    m.0zcpjsd   m.0t4r0zs   \n326    m.0y7wt38   m.0qtngg8   \n48     m.02w2j1q   m.0qtngg8   \n..           ...         ...   \n98     m.04lhllk     m.0157m   \n90     m.047bhk1     m.0157m   \n0       m.012mjr     m.0157m   \n144    m.063zs6l     m.011p3   \n59      m.0391vr    m.0100ym   \n\n                                         original_name          popular_name  \\\n313                                  Tamerlan Tsarnaev  Dzhokhar A. Tsarnaev   \n58                                    Dzhokhar Dudayev  Dzhokhar A. Tsarnaev   \n330  Tsarnaev Trail Begins, More Bin Laden Secrets,...  Dzhokhar A. Tsarnaev   \n326                          Ex Parte Boedel Steenkamp       Reeva Steenkamp   \n48                                  Orlando Riva Sound       Reeva Steenkamp   \n..                                                 ...                   ...   \n98                                                Bill          bill_clinton   \n90                              Bill Clinton Boulevard          bill_clinton   \n0                      Bill & Melinda Gates Foundation          bill_clinton   \n144                       Suu Kyi trespasser incidents      Aung_San_Suu_Kyi   \n59                                        Stephenville          stephenville   \n\n     pair_counts  \n313           27  \n58            13  \n330            2  \n326            2  \n48             1  \n..           ...  \n98             1  \n90             1  \n0              1  \n144            1  \n59             1  \n\n[332 rows x 5 columns]",
      "text/html": "<div>\n<style scoped>\n    .dataframe tbody tr th:only-of-type {\n        vertical-align: middle;\n    }\n\n    .dataframe tbody tr th {\n        vertical-align: top;\n    }\n\n    .dataframe thead th {\n        text-align: right;\n    }\n</style>\n<table border=\"1\" class=\"dataframe\">\n  <thead>\n    <tr style=\"text-align: right;\">\n      <th></th>\n      <th>original_cui</th>\n      <th>popular_cui</th>\n      <th>original_name</th>\n      <th>popular_name</th>\n      <th>pair_counts</th>\n    </tr>\n  </thead>\n  <tbody>\n    <tr>\n      <td>313</td>\n      <td>m.0t4r17x</td>\n      <td>m.0t4r0zs</td>\n      <td>Tamerlan Tsarnaev</td>\n      <td>Dzhokhar A. Tsarnaev</td>\n      <td>27</td>\n    </tr>\n    <tr>\n      <td>58</td>\n      <td>m.036wjf</td>\n      <td>m.0t4r0zs</td>\n      <td>Dzhokhar Dudayev</td>\n      <td>Dzhokhar A. Tsarnaev</td>\n      <td>13</td>\n    </tr>\n    <tr>\n      <td>330</td>\n      <td>m.0zcpjsd</td>\n      <td>m.0t4r0zs</td>\n      <td>Tsarnaev Trail Begins, More Bin Laden Secrets,...</td>\n      <td>Dzhokhar A. Tsarnaev</td>\n      <td>2</td>\n    </tr>\n    <tr>\n      <td>326</td>\n      <td>m.0y7wt38</td>\n      <td>m.0qtngg8</td>\n      <td>Ex Parte Boedel Steenkamp</td>\n      <td>Reeva Steenkamp</td>\n      <td>2</td>\n    </tr>\n    <tr>\n      <td>48</td>\n      <td>m.02w2j1q</td>\n      <td>m.0qtngg8</td>\n      <td>Orlando Riva Sound</td>\n      <td>Reeva Steenkamp</td>\n      <td>1</td>\n    </tr>\n    <tr>\n      <td>...</td>\n      <td>...</td>\n      <td>...</td>\n      <td>...</td>\n      <td>...</td>\n      <td>...</td>\n    </tr>\n    <tr>\n      <td>98</td>\n      <td>m.04lhllk</td>\n      <td>m.0157m</td>\n      <td>Bill</td>\n      <td>bill_clinton</td>\n      <td>1</td>\n    </tr>\n    <tr>\n      <td>90</td>\n      <td>m.047bhk1</td>\n      <td>m.0157m</td>\n      <td>Bill Clinton Boulevard</td>\n      <td>bill_clinton</td>\n      <td>1</td>\n    </tr>\n    <tr>\n      <td>0</td>\n      <td>m.012mjr</td>\n      <td>m.0157m</td>\n      <td>Bill &amp; Melinda Gates Foundation</td>\n      <td>bill_clinton</td>\n      <td>1</td>\n    </tr>\n    <tr>\n      <td>144</td>\n      <td>m.063zs6l</td>\n      <td>m.011p3</td>\n      <td>Suu Kyi trespasser incidents</td>\n      <td>Aung_San_Suu_Kyi</td>\n      <td>1</td>\n    </tr>\n    <tr>\n      <td>59</td>\n      <td>m.0391vr</td>\n      <td>m.0100ym</td>\n      <td>Stephenville</td>\n      <td>stephenville</td>\n      <td>1</td>\n    </tr>\n  </tbody>\n</table>\n<p>332 rows × 5 columns</p>\n</div>"
     },
     "metadata": {},
     "output_type": "execute_result",
     "execution_count": 6
    }
   ],
   "source": [
    "pair_counts = changed_correct_df.groupby([ \"original_cui\", \"popular_cui\",\"original_name\", \"popular_name\"]).size().reset_index().sort_values(by=\"popular_cui\", ascending=False)\n",
    "pair_counts.rename( columns={0:'pair_counts'}, inplace=True )\n",
    "pair_counts.to_csv(os.path.join(fn_path, f'pair_counts.csv'), index=False,)\n",
    "pair_counts"
   ],
   "metadata": {
    "collapsed": false,
    "pycharm": {
     "name": "#%%\n",
     "is_executing": false
    }
   }
  },
  {
   "cell_type": "code",
   "execution_count": 7,
   "outputs": [
    {
     "data": {
      "text/plain": "  lang    0\n0  CMN  632\n1  ENG  419\n2  SPA  187",
      "text/html": "<div>\n<style scoped>\n    .dataframe tbody tr th:only-of-type {\n        vertical-align: middle;\n    }\n\n    .dataframe tbody tr th {\n        vertical-align: top;\n    }\n\n    .dataframe thead th {\n        text-align: right;\n    }\n</style>\n<table border=\"1\" class=\"dataframe\">\n  <thead>\n    <tr style=\"text-align: right;\">\n      <th></th>\n      <th>lang</th>\n      <th>0</th>\n    </tr>\n  </thead>\n  <tbody>\n    <tr>\n      <td>0</td>\n      <td>CMN</td>\n      <td>632</td>\n    </tr>\n    <tr>\n      <td>1</td>\n      <td>ENG</td>\n      <td>419</td>\n    </tr>\n    <tr>\n      <td>2</td>\n      <td>SPA</td>\n      <td>187</td>\n    </tr>\n  </tbody>\n</table>\n</div>"
     },
     "metadata": {},
     "output_type": "execute_result",
     "execution_count": 7
    }
   ],
   "source": [
    "lang_counts = changed_correct_df.groupby(\"lang\").size().reset_index()\n",
    "lang_counts\n",
    "\n"
   ],
   "metadata": {
    "collapsed": false,
    "pycharm": {
     "name": "#%%\n",
     "is_executing": false
    }
   }
  },
  {
   "cell_type": "code",
   "execution_count": 8,
   "outputs": [],
   "source": [
    "changed_correct_df= changed_correct_df.merge(pair_counts, on=[\"original_cui\", \"popular_cui\"])\n",
    "changed_correct_df.to_csv(os.path.join(fn_path, f'changed_correct.csv'), index=False,)\n",
    "\n",
    "\n",
    "\n",
    "\n"
   ],
   "metadata": {
    "collapsed": false,
    "pycharm": {
     "name": "#%%\n",
     "is_executing": false
    }
   }
  }
 ],
 "metadata": {
  "kernelspec": {
   "display_name": "Python 3",
   "language": "python",
   "name": "python3"
  },
  "language_info": {
   "codemirror_mode": {
    "name": "ipython",
    "version": 2
   },
   "file_extension": ".py",
   "mimetype": "text/x-python",
   "name": "python",
   "nbconvert_exporter": "python",
   "pygments_lexer": "ipython2",
   "version": "2.7.6"
  },
  "pycharm": {
   "stem_cell": {
    "cell_type": "raw",
    "source": [],
    "metadata": {
     "collapsed": false
    }
   }
  }
 },
 "nbformat": 4,
 "nbformat_minor": 0
}